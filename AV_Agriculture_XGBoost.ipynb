{
  "nbformat": 4,
  "nbformat_minor": 0,
  "metadata": {
    "colab": {
      "name": "AV Agriculture - XGBoost.ipynb",
      "provenance": [],
      "collapsed_sections": []
    },
    "kernelspec": {
      "name": "python3",
      "display_name": "Python 3"
    }
  },
  "cells": [
    {
      "cell_type": "markdown",
      "metadata": {
        "id": "w7VRLpFiMUcA"
      },
      "source": [
        "Problem Statement\n",
        "\n",
        "The Toxic Pesticides\n",
        "\n",
        "Though, many of us don't appreciate much, but a farmer's job is real test of endurance and determination. Once the seeds are sown, he works days and nights to make sure that he cultivates a good harvest at the end of season. A good harvest is ensured by several factors such as availability of water, soil fertility, protecting crops from rodents, timely use of pesticides & other useful chemicals and nature. While a lot of these factors are difficult to control for, the amount and frequency of pesticides is something the farmer can control.\n",
        "\n",
        "Pesticides are also special, because while they protect the crop with the right dosage. But, if you add more than required, they may spoil the entire harvest. A high level of pesticide can deem the crop dead / unsuitable for consumption among many outcomes. This data is based on crops harvested by various farmers at the end of harvest season. To simplify the problem, you can assume that all other factors like variations in farming techniques have been controlled for.\n",
        "\n",
        "You need to daetermine the outcome of the harvest season, i.e. whether the crop would be healthy (alive), damaged by pesticides or damaged by other reasons.\n",
        "\n"
      ]
    },
    {
      "cell_type": "markdown",
      "metadata": {
        "id": "yQSipUfRMtYw"
      },
      "source": [
        "Import Libraries"
      ]
    },
    {
      "cell_type": "code",
      "metadata": {
        "id": "1jsR_10VZNWK"
      },
      "source": [
        "#import libraries\n",
        "import pandas as pd\n",
        "import numpy as np\n",
        "import matplotlib.pyplot as plt\n",
        "%matplotlib inline\n",
        "import seaborn as sns"
      ],
      "execution_count": 127,
      "outputs": []
    },
    {
      "cell_type": "markdown",
      "metadata": {
        "id": "Ki6HxhGMMw9g"
      },
      "source": [
        "Load Datasets"
      ]
    },
    {
      "cell_type": "code",
      "metadata": {
        "id": "iVZXVo6kYzWD"
      },
      "source": [
        "#Load datasets\n",
        "train=pd.read_csv(\"https://raw.githubusercontent.com/TracyRenee61/AV-Agriculture/master/train_yaOffsB%20-%20train_yaOffsB.csv\")\n",
        "test=pd.read_csv(\"https://raw.githubusercontent.com/TracyRenee61/AV-Agriculture/master/test_pFkWwen%20-%20test_pFkWwen.csv\")\n",
        "sample_sub=pd.read_csv(\"https://raw.githubusercontent.com/TracyRenee61/AV-Agriculture/master/sample_submission_O1oDc4H%20-%20sample_submission_O1oDc4H.csv\")"
      ],
      "execution_count": 128,
      "outputs": []
    },
    {
      "cell_type": "code",
      "metadata": {
        "id": "NJUhbLzemuf1",
        "outputId": "2c701f85-ac10-43ea-a4dc-fe6af4928882",
        "colab": {
          "base_uri": "https://localhost:8080/",
          "height": 439
        }
      },
      "source": [
        "train"
      ],
      "execution_count": 129,
      "outputs": [
        {
          "output_type": "execute_result",
          "data": {
            "text/html": [
              "<div>\n",
              "<style scoped>\n",
              "    .dataframe tbody tr th:only-of-type {\n",
              "        vertical-align: middle;\n",
              "    }\n",
              "\n",
              "    .dataframe tbody tr th {\n",
              "        vertical-align: top;\n",
              "    }\n",
              "\n",
              "    .dataframe thead th {\n",
              "        text-align: right;\n",
              "    }\n",
              "</style>\n",
              "<table border=\"1\" class=\"dataframe\">\n",
              "  <thead>\n",
              "    <tr style=\"text-align: right;\">\n",
              "      <th></th>\n",
              "      <th>ID</th>\n",
              "      <th>Estimated_Insects_Count</th>\n",
              "      <th>Crop_Type</th>\n",
              "      <th>Soil_Type</th>\n",
              "      <th>Pesticide_Use_Category</th>\n",
              "      <th>Number_Doses_Week</th>\n",
              "      <th>Number_Weeks_Used</th>\n",
              "      <th>Number_Weeks_Quit</th>\n",
              "      <th>Season</th>\n",
              "      <th>Crop_Damage</th>\n",
              "    </tr>\n",
              "  </thead>\n",
              "  <tbody>\n",
              "    <tr>\n",
              "      <th>0</th>\n",
              "      <td>F00000001</td>\n",
              "      <td>188</td>\n",
              "      <td>1</td>\n",
              "      <td>0</td>\n",
              "      <td>1</td>\n",
              "      <td>0</td>\n",
              "      <td>0.0</td>\n",
              "      <td>0</td>\n",
              "      <td>1</td>\n",
              "      <td>0</td>\n",
              "    </tr>\n",
              "    <tr>\n",
              "      <th>1</th>\n",
              "      <td>F00000003</td>\n",
              "      <td>209</td>\n",
              "      <td>1</td>\n",
              "      <td>0</td>\n",
              "      <td>1</td>\n",
              "      <td>0</td>\n",
              "      <td>0.0</td>\n",
              "      <td>0</td>\n",
              "      <td>2</td>\n",
              "      <td>1</td>\n",
              "    </tr>\n",
              "    <tr>\n",
              "      <th>2</th>\n",
              "      <td>F00000004</td>\n",
              "      <td>257</td>\n",
              "      <td>1</td>\n",
              "      <td>0</td>\n",
              "      <td>1</td>\n",
              "      <td>0</td>\n",
              "      <td>0.0</td>\n",
              "      <td>0</td>\n",
              "      <td>2</td>\n",
              "      <td>1</td>\n",
              "    </tr>\n",
              "    <tr>\n",
              "      <th>3</th>\n",
              "      <td>F00000005</td>\n",
              "      <td>257</td>\n",
              "      <td>1</td>\n",
              "      <td>1</td>\n",
              "      <td>1</td>\n",
              "      <td>0</td>\n",
              "      <td>0.0</td>\n",
              "      <td>0</td>\n",
              "      <td>2</td>\n",
              "      <td>1</td>\n",
              "    </tr>\n",
              "    <tr>\n",
              "      <th>4</th>\n",
              "      <td>F00000006</td>\n",
              "      <td>342</td>\n",
              "      <td>1</td>\n",
              "      <td>0</td>\n",
              "      <td>1</td>\n",
              "      <td>0</td>\n",
              "      <td>0.0</td>\n",
              "      <td>0</td>\n",
              "      <td>2</td>\n",
              "      <td>1</td>\n",
              "    </tr>\n",
              "    <tr>\n",
              "      <th>...</th>\n",
              "      <td>...</td>\n",
              "      <td>...</td>\n",
              "      <td>...</td>\n",
              "      <td>...</td>\n",
              "      <td>...</td>\n",
              "      <td>...</td>\n",
              "      <td>...</td>\n",
              "      <td>...</td>\n",
              "      <td>...</td>\n",
              "      <td>...</td>\n",
              "    </tr>\n",
              "    <tr>\n",
              "      <th>88853</th>\n",
              "      <td>F00155935</td>\n",
              "      <td>3337</td>\n",
              "      <td>1</td>\n",
              "      <td>0</td>\n",
              "      <td>2</td>\n",
              "      <td>10</td>\n",
              "      <td>12.0</td>\n",
              "      <td>44</td>\n",
              "      <td>3</td>\n",
              "      <td>0</td>\n",
              "    </tr>\n",
              "    <tr>\n",
              "      <th>88854</th>\n",
              "      <td>F00155938</td>\n",
              "      <td>3516</td>\n",
              "      <td>1</td>\n",
              "      <td>0</td>\n",
              "      <td>2</td>\n",
              "      <td>10</td>\n",
              "      <td>20.0</td>\n",
              "      <td>38</td>\n",
              "      <td>1</td>\n",
              "      <td>0</td>\n",
              "    </tr>\n",
              "    <tr>\n",
              "      <th>88855</th>\n",
              "      <td>F00155939</td>\n",
              "      <td>3516</td>\n",
              "      <td>1</td>\n",
              "      <td>0</td>\n",
              "      <td>2</td>\n",
              "      <td>15</td>\n",
              "      <td>40.0</td>\n",
              "      <td>8</td>\n",
              "      <td>2</td>\n",
              "      <td>0</td>\n",
              "    </tr>\n",
              "    <tr>\n",
              "      <th>88856</th>\n",
              "      <td>F00155942</td>\n",
              "      <td>3702</td>\n",
              "      <td>1</td>\n",
              "      <td>0</td>\n",
              "      <td>2</td>\n",
              "      <td>10</td>\n",
              "      <td>25.0</td>\n",
              "      <td>18</td>\n",
              "      <td>3</td>\n",
              "      <td>0</td>\n",
              "    </tr>\n",
              "    <tr>\n",
              "      <th>88857</th>\n",
              "      <td>F00155945</td>\n",
              "      <td>3895</td>\n",
              "      <td>1</td>\n",
              "      <td>0</td>\n",
              "      <td>2</td>\n",
              "      <td>20</td>\n",
              "      <td>37.0</td>\n",
              "      <td>7</td>\n",
              "      <td>3</td>\n",
              "      <td>0</td>\n",
              "    </tr>\n",
              "  </tbody>\n",
              "</table>\n",
              "<p>88858 rows × 10 columns</p>\n",
              "</div>"
            ],
            "text/plain": [
              "              ID  Estimated_Insects_Count  ...  Season  Crop_Damage\n",
              "0      F00000001                      188  ...       1            0\n",
              "1      F00000003                      209  ...       2            1\n",
              "2      F00000004                      257  ...       2            1\n",
              "3      F00000005                      257  ...       2            1\n",
              "4      F00000006                      342  ...       2            1\n",
              "...          ...                      ...  ...     ...          ...\n",
              "88853  F00155935                     3337  ...       3            0\n",
              "88854  F00155938                     3516  ...       1            0\n",
              "88855  F00155939                     3516  ...       2            0\n",
              "88856  F00155942                     3702  ...       3            0\n",
              "88857  F00155945                     3895  ...       3            0\n",
              "\n",
              "[88858 rows x 10 columns]"
            ]
          },
          "metadata": {
            "tags": []
          },
          "execution_count": 129
        }
      ]
    },
    {
      "cell_type": "code",
      "metadata": {
        "id": "SWyvIfHHmxFo",
        "outputId": "b717fa79-0093-41c3-d778-b803fc6caa3d",
        "colab": {
          "base_uri": "https://localhost:8080/",
          "height": 419
        }
      },
      "source": [
        "test"
      ],
      "execution_count": 130,
      "outputs": [
        {
          "output_type": "execute_result",
          "data": {
            "text/html": [
              "<div>\n",
              "<style scoped>\n",
              "    .dataframe tbody tr th:only-of-type {\n",
              "        vertical-align: middle;\n",
              "    }\n",
              "\n",
              "    .dataframe tbody tr th {\n",
              "        vertical-align: top;\n",
              "    }\n",
              "\n",
              "    .dataframe thead th {\n",
              "        text-align: right;\n",
              "    }\n",
              "</style>\n",
              "<table border=\"1\" class=\"dataframe\">\n",
              "  <thead>\n",
              "    <tr style=\"text-align: right;\">\n",
              "      <th></th>\n",
              "      <th>ID</th>\n",
              "      <th>Estimated_Insects_Count</th>\n",
              "      <th>Crop_Type</th>\n",
              "      <th>Soil_Type</th>\n",
              "      <th>Pesticide_Use_Category</th>\n",
              "      <th>Number_Doses_Week</th>\n",
              "      <th>Number_Weeks_Used</th>\n",
              "      <th>Number_Weeks_Quit</th>\n",
              "      <th>Season</th>\n",
              "    </tr>\n",
              "  </thead>\n",
              "  <tbody>\n",
              "    <tr>\n",
              "      <th>0</th>\n",
              "      <td>F00000002</td>\n",
              "      <td>188</td>\n",
              "      <td>1</td>\n",
              "      <td>1</td>\n",
              "      <td>1</td>\n",
              "      <td>0</td>\n",
              "      <td>NaN</td>\n",
              "      <td>0</td>\n",
              "      <td>2</td>\n",
              "    </tr>\n",
              "    <tr>\n",
              "      <th>1</th>\n",
              "      <td>F00000007</td>\n",
              "      <td>410</td>\n",
              "      <td>1</td>\n",
              "      <td>1</td>\n",
              "      <td>1</td>\n",
              "      <td>0</td>\n",
              "      <td>0.0</td>\n",
              "      <td>0</td>\n",
              "      <td>2</td>\n",
              "    </tr>\n",
              "    <tr>\n",
              "      <th>2</th>\n",
              "      <td>F00000011</td>\n",
              "      <td>626</td>\n",
              "      <td>1</td>\n",
              "      <td>0</td>\n",
              "      <td>1</td>\n",
              "      <td>0</td>\n",
              "      <td>0.0</td>\n",
              "      <td>0</td>\n",
              "      <td>2</td>\n",
              "    </tr>\n",
              "    <tr>\n",
              "      <th>3</th>\n",
              "      <td>F00000013</td>\n",
              "      <td>731</td>\n",
              "      <td>1</td>\n",
              "      <td>0</td>\n",
              "      <td>1</td>\n",
              "      <td>0</td>\n",
              "      <td>0.0</td>\n",
              "      <td>0</td>\n",
              "      <td>2</td>\n",
              "    </tr>\n",
              "    <tr>\n",
              "      <th>4</th>\n",
              "      <td>F00000014</td>\n",
              "      <td>789</td>\n",
              "      <td>0</td>\n",
              "      <td>0</td>\n",
              "      <td>1</td>\n",
              "      <td>0</td>\n",
              "      <td>0.0</td>\n",
              "      <td>0</td>\n",
              "      <td>1</td>\n",
              "    </tr>\n",
              "    <tr>\n",
              "      <th>...</th>\n",
              "      <td>...</td>\n",
              "      <td>...</td>\n",
              "      <td>...</td>\n",
              "      <td>...</td>\n",
              "      <td>...</td>\n",
              "      <td>...</td>\n",
              "      <td>...</td>\n",
              "      <td>...</td>\n",
              "      <td>...</td>\n",
              "    </tr>\n",
              "    <tr>\n",
              "      <th>59305</th>\n",
              "      <td>F00155937</td>\n",
              "      <td>3337</td>\n",
              "      <td>1</td>\n",
              "      <td>0</td>\n",
              "      <td>2</td>\n",
              "      <td>20</td>\n",
              "      <td>34.0</td>\n",
              "      <td>12</td>\n",
              "      <td>1</td>\n",
              "    </tr>\n",
              "    <tr>\n",
              "      <th>59306</th>\n",
              "      <td>F00155940</td>\n",
              "      <td>3516</td>\n",
              "      <td>1</td>\n",
              "      <td>0</td>\n",
              "      <td>2</td>\n",
              "      <td>20</td>\n",
              "      <td>32.0</td>\n",
              "      <td>10</td>\n",
              "      <td>2</td>\n",
              "    </tr>\n",
              "    <tr>\n",
              "      <th>59307</th>\n",
              "      <td>F00155941</td>\n",
              "      <td>3702</td>\n",
              "      <td>1</td>\n",
              "      <td>0</td>\n",
              "      <td>2</td>\n",
              "      <td>10</td>\n",
              "      <td>NaN</td>\n",
              "      <td>48</td>\n",
              "      <td>1</td>\n",
              "    </tr>\n",
              "    <tr>\n",
              "      <th>59308</th>\n",
              "      <td>F00155943</td>\n",
              "      <td>3702</td>\n",
              "      <td>1</td>\n",
              "      <td>0</td>\n",
              "      <td>2</td>\n",
              "      <td>10</td>\n",
              "      <td>28.0</td>\n",
              "      <td>17</td>\n",
              "      <td>2</td>\n",
              "    </tr>\n",
              "    <tr>\n",
              "      <th>59309</th>\n",
              "      <td>F00155944</td>\n",
              "      <td>3895</td>\n",
              "      <td>1</td>\n",
              "      <td>0</td>\n",
              "      <td>2</td>\n",
              "      <td>5</td>\n",
              "      <td>52.0</td>\n",
              "      <td>7</td>\n",
              "      <td>1</td>\n",
              "    </tr>\n",
              "  </tbody>\n",
              "</table>\n",
              "<p>59310 rows × 9 columns</p>\n",
              "</div>"
            ],
            "text/plain": [
              "              ID  Estimated_Insects_Count  ...  Number_Weeks_Quit  Season\n",
              "0      F00000002                      188  ...                  0       2\n",
              "1      F00000007                      410  ...                  0       2\n",
              "2      F00000011                      626  ...                  0       2\n",
              "3      F00000013                      731  ...                  0       2\n",
              "4      F00000014                      789  ...                  0       1\n",
              "...          ...                      ...  ...                ...     ...\n",
              "59305  F00155937                     3337  ...                 12       1\n",
              "59306  F00155940                     3516  ...                 10       2\n",
              "59307  F00155941                     3702  ...                 48       1\n",
              "59308  F00155943                     3702  ...                 17       2\n",
              "59309  F00155944                     3895  ...                  7       1\n",
              "\n",
              "[59310 rows x 9 columns]"
            ]
          },
          "metadata": {
            "tags": []
          },
          "execution_count": 130
        }
      ]
    },
    {
      "cell_type": "code",
      "metadata": {
        "id": "RI_qMCkxm0oU",
        "outputId": "6f1f93d6-e1a3-4e12-8cbd-60a2f36938b7",
        "colab": {
          "base_uri": "https://localhost:8080/",
          "height": 419
        }
      },
      "source": [
        "sample_sub"
      ],
      "execution_count": 131,
      "outputs": [
        {
          "output_type": "execute_result",
          "data": {
            "text/html": [
              "<div>\n",
              "<style scoped>\n",
              "    .dataframe tbody tr th:only-of-type {\n",
              "        vertical-align: middle;\n",
              "    }\n",
              "\n",
              "    .dataframe tbody tr th {\n",
              "        vertical-align: top;\n",
              "    }\n",
              "\n",
              "    .dataframe thead th {\n",
              "        text-align: right;\n",
              "    }\n",
              "</style>\n",
              "<table border=\"1\" class=\"dataframe\">\n",
              "  <thead>\n",
              "    <tr style=\"text-align: right;\">\n",
              "      <th></th>\n",
              "      <th>ID</th>\n",
              "      <th>Crop_Damage</th>\n",
              "    </tr>\n",
              "  </thead>\n",
              "  <tbody>\n",
              "    <tr>\n",
              "      <th>0</th>\n",
              "      <td>F00000002</td>\n",
              "      <td>1</td>\n",
              "    </tr>\n",
              "    <tr>\n",
              "      <th>1</th>\n",
              "      <td>F00000011</td>\n",
              "      <td>1</td>\n",
              "    </tr>\n",
              "    <tr>\n",
              "      <th>2</th>\n",
              "      <td>F00000014</td>\n",
              "      <td>1</td>\n",
              "    </tr>\n",
              "    <tr>\n",
              "      <th>3</th>\n",
              "      <td>F00000015</td>\n",
              "      <td>1</td>\n",
              "    </tr>\n",
              "    <tr>\n",
              "      <th>4</th>\n",
              "      <td>F00000016</td>\n",
              "      <td>1</td>\n",
              "    </tr>\n",
              "    <tr>\n",
              "      <th>...</th>\n",
              "      <td>...</td>\n",
              "      <td>...</td>\n",
              "    </tr>\n",
              "    <tr>\n",
              "      <th>59305</th>\n",
              "      <td>F00155901</td>\n",
              "      <td>1</td>\n",
              "    </tr>\n",
              "    <tr>\n",
              "      <th>59306</th>\n",
              "      <td>F00155912</td>\n",
              "      <td>1</td>\n",
              "    </tr>\n",
              "    <tr>\n",
              "      <th>59307</th>\n",
              "      <td>F00155930</td>\n",
              "      <td>1</td>\n",
              "    </tr>\n",
              "    <tr>\n",
              "      <th>59308</th>\n",
              "      <td>F00155933</td>\n",
              "      <td>1</td>\n",
              "    </tr>\n",
              "    <tr>\n",
              "      <th>59309</th>\n",
              "      <td>F00155941</td>\n",
              "      <td>1</td>\n",
              "    </tr>\n",
              "  </tbody>\n",
              "</table>\n",
              "<p>59310 rows × 2 columns</p>\n",
              "</div>"
            ],
            "text/plain": [
              "              ID  Crop_Damage\n",
              "0      F00000002            1\n",
              "1      F00000011            1\n",
              "2      F00000014            1\n",
              "3      F00000015            1\n",
              "4      F00000016            1\n",
              "...          ...          ...\n",
              "59305  F00155901            1\n",
              "59306  F00155912            1\n",
              "59307  F00155930            1\n",
              "59308  F00155933            1\n",
              "59309  F00155941            1\n",
              "\n",
              "[59310 rows x 2 columns]"
            ]
          },
          "metadata": {
            "tags": []
          },
          "execution_count": 131
        }
      ]
    },
    {
      "cell_type": "code",
      "metadata": {
        "id": "q23X0htLnC86",
        "outputId": "d9b6c95d-ec4c-4304-d791-3f1524bcfbc8",
        "colab": {
          "base_uri": "https://localhost:8080/",
          "height": 306
        }
      },
      "source": [
        "train.info()"
      ],
      "execution_count": 132,
      "outputs": [
        {
          "output_type": "stream",
          "text": [
            "<class 'pandas.core.frame.DataFrame'>\n",
            "RangeIndex: 88858 entries, 0 to 88857\n",
            "Data columns (total 10 columns):\n",
            " #   Column                   Non-Null Count  Dtype  \n",
            "---  ------                   --------------  -----  \n",
            " 0   ID                       88858 non-null  object \n",
            " 1   Estimated_Insects_Count  88858 non-null  int64  \n",
            " 2   Crop_Type                88858 non-null  int64  \n",
            " 3   Soil_Type                88858 non-null  int64  \n",
            " 4   Pesticide_Use_Category   88858 non-null  int64  \n",
            " 5   Number_Doses_Week        88858 non-null  int64  \n",
            " 6   Number_Weeks_Used        79858 non-null  float64\n",
            " 7   Number_Weeks_Quit        88858 non-null  int64  \n",
            " 8   Season                   88858 non-null  int64  \n",
            " 9   Crop_Damage              88858 non-null  int64  \n",
            "dtypes: float64(1), int64(8), object(1)\n",
            "memory usage: 6.8+ MB\n"
          ],
          "name": "stdout"
        }
      ]
    },
    {
      "cell_type": "code",
      "metadata": {
        "id": "vTm1WDGmnGpD",
        "outputId": "ff07ea16-e57d-4212-ae3f-61cbe6ad608d",
        "colab": {
          "base_uri": "https://localhost:8080/",
          "height": 289
        }
      },
      "source": [
        "test.info()"
      ],
      "execution_count": 133,
      "outputs": [
        {
          "output_type": "stream",
          "text": [
            "<class 'pandas.core.frame.DataFrame'>\n",
            "RangeIndex: 59310 entries, 0 to 59309\n",
            "Data columns (total 9 columns):\n",
            " #   Column                   Non-Null Count  Dtype  \n",
            "---  ------                   --------------  -----  \n",
            " 0   ID                       59310 non-null  object \n",
            " 1   Estimated_Insects_Count  59310 non-null  int64  \n",
            " 2   Crop_Type                59310 non-null  int64  \n",
            " 3   Soil_Type                59310 non-null  int64  \n",
            " 4   Pesticide_Use_Category   59310 non-null  int64  \n",
            " 5   Number_Doses_Week        59310 non-null  int64  \n",
            " 6   Number_Weeks_Used        53417 non-null  float64\n",
            " 7   Number_Weeks_Quit        59310 non-null  int64  \n",
            " 8   Season                   59310 non-null  int64  \n",
            "dtypes: float64(1), int64(7), object(1)\n",
            "memory usage: 4.1+ MB\n"
          ],
          "name": "stdout"
        }
      ]
    },
    {
      "cell_type": "code",
      "metadata": {
        "id": "heG2daOfod9R",
        "outputId": "66d2eb38-d3cd-43c0-a60e-76722c57910f",
        "colab": {
          "base_uri": "https://localhost:8080/",
          "height": 317
        }
      },
      "source": [
        "train.describe()"
      ],
      "execution_count": 134,
      "outputs": [
        {
          "output_type": "execute_result",
          "data": {
            "text/html": [
              "<div>\n",
              "<style scoped>\n",
              "    .dataframe tbody tr th:only-of-type {\n",
              "        vertical-align: middle;\n",
              "    }\n",
              "\n",
              "    .dataframe tbody tr th {\n",
              "        vertical-align: top;\n",
              "    }\n",
              "\n",
              "    .dataframe thead th {\n",
              "        text-align: right;\n",
              "    }\n",
              "</style>\n",
              "<table border=\"1\" class=\"dataframe\">\n",
              "  <thead>\n",
              "    <tr style=\"text-align: right;\">\n",
              "      <th></th>\n",
              "      <th>Estimated_Insects_Count</th>\n",
              "      <th>Crop_Type</th>\n",
              "      <th>Soil_Type</th>\n",
              "      <th>Pesticide_Use_Category</th>\n",
              "      <th>Number_Doses_Week</th>\n",
              "      <th>Number_Weeks_Used</th>\n",
              "      <th>Number_Weeks_Quit</th>\n",
              "      <th>Season</th>\n",
              "      <th>Crop_Damage</th>\n",
              "    </tr>\n",
              "  </thead>\n",
              "  <tbody>\n",
              "    <tr>\n",
              "      <th>count</th>\n",
              "      <td>88858.000000</td>\n",
              "      <td>88858.000000</td>\n",
              "      <td>88858.000000</td>\n",
              "      <td>88858.000000</td>\n",
              "      <td>88858.000000</td>\n",
              "      <td>79858.000000</td>\n",
              "      <td>88858.000000</td>\n",
              "      <td>88858.000000</td>\n",
              "      <td>88858.000000</td>\n",
              "    </tr>\n",
              "    <tr>\n",
              "      <th>mean</th>\n",
              "      <td>1399.012210</td>\n",
              "      <td>0.284375</td>\n",
              "      <td>0.458417</td>\n",
              "      <td>2.264186</td>\n",
              "      <td>25.849952</td>\n",
              "      <td>28.623970</td>\n",
              "      <td>9.589986</td>\n",
              "      <td>1.896959</td>\n",
              "      <td>0.190562</td>\n",
              "    </tr>\n",
              "    <tr>\n",
              "      <th>std</th>\n",
              "      <td>849.048781</td>\n",
              "      <td>0.451119</td>\n",
              "      <td>0.498271</td>\n",
              "      <td>0.461772</td>\n",
              "      <td>15.554428</td>\n",
              "      <td>12.391881</td>\n",
              "      <td>9.900631</td>\n",
              "      <td>0.701322</td>\n",
              "      <td>0.454215</td>\n",
              "    </tr>\n",
              "    <tr>\n",
              "      <th>min</th>\n",
              "      <td>150.000000</td>\n",
              "      <td>0.000000</td>\n",
              "      <td>0.000000</td>\n",
              "      <td>1.000000</td>\n",
              "      <td>0.000000</td>\n",
              "      <td>0.000000</td>\n",
              "      <td>0.000000</td>\n",
              "      <td>1.000000</td>\n",
              "      <td>0.000000</td>\n",
              "    </tr>\n",
              "    <tr>\n",
              "      <th>25%</th>\n",
              "      <td>731.000000</td>\n",
              "      <td>0.000000</td>\n",
              "      <td>0.000000</td>\n",
              "      <td>2.000000</td>\n",
              "      <td>15.000000</td>\n",
              "      <td>20.000000</td>\n",
              "      <td>0.000000</td>\n",
              "      <td>1.000000</td>\n",
              "      <td>0.000000</td>\n",
              "    </tr>\n",
              "    <tr>\n",
              "      <th>50%</th>\n",
              "      <td>1212.000000</td>\n",
              "      <td>0.000000</td>\n",
              "      <td>0.000000</td>\n",
              "      <td>2.000000</td>\n",
              "      <td>20.000000</td>\n",
              "      <td>28.000000</td>\n",
              "      <td>7.000000</td>\n",
              "      <td>2.000000</td>\n",
              "      <td>0.000000</td>\n",
              "    </tr>\n",
              "    <tr>\n",
              "      <th>75%</th>\n",
              "      <td>1898.000000</td>\n",
              "      <td>1.000000</td>\n",
              "      <td>1.000000</td>\n",
              "      <td>3.000000</td>\n",
              "      <td>40.000000</td>\n",
              "      <td>37.000000</td>\n",
              "      <td>16.000000</td>\n",
              "      <td>2.000000</td>\n",
              "      <td>0.000000</td>\n",
              "    </tr>\n",
              "    <tr>\n",
              "      <th>max</th>\n",
              "      <td>4097.000000</td>\n",
              "      <td>1.000000</td>\n",
              "      <td>1.000000</td>\n",
              "      <td>3.000000</td>\n",
              "      <td>95.000000</td>\n",
              "      <td>67.000000</td>\n",
              "      <td>50.000000</td>\n",
              "      <td>3.000000</td>\n",
              "      <td>2.000000</td>\n",
              "    </tr>\n",
              "  </tbody>\n",
              "</table>\n",
              "</div>"
            ],
            "text/plain": [
              "       Estimated_Insects_Count     Crop_Type  ...        Season   Crop_Damage\n",
              "count             88858.000000  88858.000000  ...  88858.000000  88858.000000\n",
              "mean               1399.012210      0.284375  ...      1.896959      0.190562\n",
              "std                 849.048781      0.451119  ...      0.701322      0.454215\n",
              "min                 150.000000      0.000000  ...      1.000000      0.000000\n",
              "25%                 731.000000      0.000000  ...      1.000000      0.000000\n",
              "50%                1212.000000      0.000000  ...      2.000000      0.000000\n",
              "75%                1898.000000      1.000000  ...      2.000000      0.000000\n",
              "max                4097.000000      1.000000  ...      3.000000      2.000000\n",
              "\n",
              "[8 rows x 9 columns]"
            ]
          },
          "metadata": {
            "tags": []
          },
          "execution_count": 134
        }
      ]
    },
    {
      "cell_type": "code",
      "metadata": {
        "id": "F9ZjvUxPohrF",
        "outputId": "4e4855c3-a885-4028-8165-be3228f1d0fc",
        "colab": {
          "base_uri": "https://localhost:8080/",
          "height": 297
        }
      },
      "source": [
        "test.describe()"
      ],
      "execution_count": 135,
      "outputs": [
        {
          "output_type": "execute_result",
          "data": {
            "text/html": [
              "<div>\n",
              "<style scoped>\n",
              "    .dataframe tbody tr th:only-of-type {\n",
              "        vertical-align: middle;\n",
              "    }\n",
              "\n",
              "    .dataframe tbody tr th {\n",
              "        vertical-align: top;\n",
              "    }\n",
              "\n",
              "    .dataframe thead th {\n",
              "        text-align: right;\n",
              "    }\n",
              "</style>\n",
              "<table border=\"1\" class=\"dataframe\">\n",
              "  <thead>\n",
              "    <tr style=\"text-align: right;\">\n",
              "      <th></th>\n",
              "      <th>Estimated_Insects_Count</th>\n",
              "      <th>Crop_Type</th>\n",
              "      <th>Soil_Type</th>\n",
              "      <th>Pesticide_Use_Category</th>\n",
              "      <th>Number_Doses_Week</th>\n",
              "      <th>Number_Weeks_Used</th>\n",
              "      <th>Number_Weeks_Quit</th>\n",
              "      <th>Season</th>\n",
              "    </tr>\n",
              "  </thead>\n",
              "  <tbody>\n",
              "    <tr>\n",
              "      <th>count</th>\n",
              "      <td>59310.000000</td>\n",
              "      <td>59310.000000</td>\n",
              "      <td>59310.000000</td>\n",
              "      <td>59310.000000</td>\n",
              "      <td>59310.000000</td>\n",
              "      <td>53417.000000</td>\n",
              "      <td>59310.000000</td>\n",
              "      <td>59310.000000</td>\n",
              "    </tr>\n",
              "    <tr>\n",
              "      <th>mean</th>\n",
              "      <td>1397.014129</td>\n",
              "      <td>0.287068</td>\n",
              "      <td>0.455117</td>\n",
              "      <td>2.263227</td>\n",
              "      <td>25.851880</td>\n",
              "      <td>28.705094</td>\n",
              "      <td>9.528376</td>\n",
              "      <td>1.900877</td>\n",
              "    </tr>\n",
              "    <tr>\n",
              "      <th>std</th>\n",
              "      <td>849.425808</td>\n",
              "      <td>0.452397</td>\n",
              "      <td>0.497986</td>\n",
              "      <td>0.461733</td>\n",
              "      <td>15.481957</td>\n",
              "      <td>12.421211</td>\n",
              "      <td>9.855341</td>\n",
              "      <td>0.701934</td>\n",
              "    </tr>\n",
              "    <tr>\n",
              "      <th>min</th>\n",
              "      <td>150.000000</td>\n",
              "      <td>0.000000</td>\n",
              "      <td>0.000000</td>\n",
              "      <td>1.000000</td>\n",
              "      <td>0.000000</td>\n",
              "      <td>0.000000</td>\n",
              "      <td>0.000000</td>\n",
              "      <td>1.000000</td>\n",
              "    </tr>\n",
              "    <tr>\n",
              "      <th>25%</th>\n",
              "      <td>731.000000</td>\n",
              "      <td>0.000000</td>\n",
              "      <td>0.000000</td>\n",
              "      <td>2.000000</td>\n",
              "      <td>15.000000</td>\n",
              "      <td>20.000000</td>\n",
              "      <td>0.000000</td>\n",
              "      <td>1.000000</td>\n",
              "    </tr>\n",
              "    <tr>\n",
              "      <th>50%</th>\n",
              "      <td>1212.000000</td>\n",
              "      <td>0.000000</td>\n",
              "      <td>0.000000</td>\n",
              "      <td>2.000000</td>\n",
              "      <td>20.000000</td>\n",
              "      <td>28.000000</td>\n",
              "      <td>7.000000</td>\n",
              "      <td>2.000000</td>\n",
              "    </tr>\n",
              "    <tr>\n",
              "      <th>75%</th>\n",
              "      <td>1898.000000</td>\n",
              "      <td>1.000000</td>\n",
              "      <td>1.000000</td>\n",
              "      <td>3.000000</td>\n",
              "      <td>40.000000</td>\n",
              "      <td>38.000000</td>\n",
              "      <td>16.000000</td>\n",
              "      <td>2.000000</td>\n",
              "    </tr>\n",
              "    <tr>\n",
              "      <th>max</th>\n",
              "      <td>4097.000000</td>\n",
              "      <td>1.000000</td>\n",
              "      <td>1.000000</td>\n",
              "      <td>3.000000</td>\n",
              "      <td>95.000000</td>\n",
              "      <td>67.000000</td>\n",
              "      <td>50.000000</td>\n",
              "      <td>3.000000</td>\n",
              "    </tr>\n",
              "  </tbody>\n",
              "</table>\n",
              "</div>"
            ],
            "text/plain": [
              "       Estimated_Insects_Count     Crop_Type  ...  Number_Weeks_Quit        Season\n",
              "count             59310.000000  59310.000000  ...       59310.000000  59310.000000\n",
              "mean               1397.014129      0.287068  ...           9.528376      1.900877\n",
              "std                 849.425808      0.452397  ...           9.855341      0.701934\n",
              "min                 150.000000      0.000000  ...           0.000000      1.000000\n",
              "25%                 731.000000      0.000000  ...           0.000000      1.000000\n",
              "50%                1212.000000      0.000000  ...           7.000000      2.000000\n",
              "75%                1898.000000      1.000000  ...          16.000000      2.000000\n",
              "max                4097.000000      1.000000  ...          50.000000      3.000000\n",
              "\n",
              "[8 rows x 8 columns]"
            ]
          },
          "metadata": {
            "tags": []
          },
          "execution_count": 135
        }
      ]
    },
    {
      "cell_type": "markdown",
      "metadata": {
        "id": "fpWn6vLsM4h0"
      },
      "source": [
        "Check for missing values"
      ]
    },
    {
      "cell_type": "code",
      "metadata": {
        "id": "jg379ydhnLOX",
        "outputId": "c32c423a-b88c-431e-86f5-8ade612a9c03",
        "colab": {
          "base_uri": "https://localhost:8080/",
          "height": 204
        }
      },
      "source": [
        "train.isnull().sum()"
      ],
      "execution_count": 136,
      "outputs": [
        {
          "output_type": "execute_result",
          "data": {
            "text/plain": [
              "ID                            0\n",
              "Estimated_Insects_Count       0\n",
              "Crop_Type                     0\n",
              "Soil_Type                     0\n",
              "Pesticide_Use_Category        0\n",
              "Number_Doses_Week             0\n",
              "Number_Weeks_Used          9000\n",
              "Number_Weeks_Quit             0\n",
              "Season                        0\n",
              "Crop_Damage                   0\n",
              "dtype: int64"
            ]
          },
          "metadata": {
            "tags": []
          },
          "execution_count": 136
        }
      ]
    },
    {
      "cell_type": "code",
      "metadata": {
        "id": "Ce5UC40_nQUM",
        "outputId": "67029184-f274-48c0-8c54-ce9d1c6afca7",
        "colab": {
          "base_uri": "https://localhost:8080/",
          "height": 187
        }
      },
      "source": [
        "test.isnull().sum()"
      ],
      "execution_count": 137,
      "outputs": [
        {
          "output_type": "execute_result",
          "data": {
            "text/plain": [
              "ID                            0\n",
              "Estimated_Insects_Count       0\n",
              "Crop_Type                     0\n",
              "Soil_Type                     0\n",
              "Pesticide_Use_Category        0\n",
              "Number_Doses_Week             0\n",
              "Number_Weeks_Used          5893\n",
              "Number_Weeks_Quit             0\n",
              "Season                        0\n",
              "dtype: int64"
            ]
          },
          "metadata": {
            "tags": []
          },
          "execution_count": 137
        }
      ]
    },
    {
      "cell_type": "markdown",
      "metadata": {
        "id": "A1r3RLg_M-Ek"
      },
      "source": [
        "Impute missing values"
      ]
    },
    {
      "cell_type": "code",
      "metadata": {
        "id": "ongdk9nWoBD_"
      },
      "source": [
        "# fill up missing values with median\n",
        "train['Number_Weeks_Used'] = train['Number_Weeks_Used'].fillna(train['Number_Weeks_Used'].median())\n",
        "test['Number_Weeks_Used'] = test['Number_Weeks_Used'].fillna(test['Number_Weeks_Used'].median())"
      ],
      "execution_count": 138,
      "outputs": []
    },
    {
      "cell_type": "code",
      "metadata": {
        "id": "6Dx4PBSqoqP8",
        "outputId": "fff0ff48-98f1-4273-b615-28b74fe9e61d",
        "colab": {
          "base_uri": "https://localhost:8080/",
          "height": 34
        }
      },
      "source": [
        "train.isnull().sum().sum(), test.isnull().sum().sum()"
      ],
      "execution_count": 139,
      "outputs": [
        {
          "output_type": "execute_result",
          "data": {
            "text/plain": [
              "(0, 0)"
            ]
          },
          "metadata": {
            "tags": []
          },
          "execution_count": 139
        }
      ]
    },
    {
      "cell_type": "code",
      "metadata": {
        "id": "KZwSqiDXtWzy",
        "outputId": "f484d7b7-f501-449e-bd62-c3f70c9942b1",
        "colab": {
          "base_uri": "https://localhost:8080/",
          "height": 439
        }
      },
      "source": [
        "train"
      ],
      "execution_count": 140,
      "outputs": [
        {
          "output_type": "execute_result",
          "data": {
            "text/html": [
              "<div>\n",
              "<style scoped>\n",
              "    .dataframe tbody tr th:only-of-type {\n",
              "        vertical-align: middle;\n",
              "    }\n",
              "\n",
              "    .dataframe tbody tr th {\n",
              "        vertical-align: top;\n",
              "    }\n",
              "\n",
              "    .dataframe thead th {\n",
              "        text-align: right;\n",
              "    }\n",
              "</style>\n",
              "<table border=\"1\" class=\"dataframe\">\n",
              "  <thead>\n",
              "    <tr style=\"text-align: right;\">\n",
              "      <th></th>\n",
              "      <th>ID</th>\n",
              "      <th>Estimated_Insects_Count</th>\n",
              "      <th>Crop_Type</th>\n",
              "      <th>Soil_Type</th>\n",
              "      <th>Pesticide_Use_Category</th>\n",
              "      <th>Number_Doses_Week</th>\n",
              "      <th>Number_Weeks_Used</th>\n",
              "      <th>Number_Weeks_Quit</th>\n",
              "      <th>Season</th>\n",
              "      <th>Crop_Damage</th>\n",
              "    </tr>\n",
              "  </thead>\n",
              "  <tbody>\n",
              "    <tr>\n",
              "      <th>0</th>\n",
              "      <td>F00000001</td>\n",
              "      <td>188</td>\n",
              "      <td>1</td>\n",
              "      <td>0</td>\n",
              "      <td>1</td>\n",
              "      <td>0</td>\n",
              "      <td>0.0</td>\n",
              "      <td>0</td>\n",
              "      <td>1</td>\n",
              "      <td>0</td>\n",
              "    </tr>\n",
              "    <tr>\n",
              "      <th>1</th>\n",
              "      <td>F00000003</td>\n",
              "      <td>209</td>\n",
              "      <td>1</td>\n",
              "      <td>0</td>\n",
              "      <td>1</td>\n",
              "      <td>0</td>\n",
              "      <td>0.0</td>\n",
              "      <td>0</td>\n",
              "      <td>2</td>\n",
              "      <td>1</td>\n",
              "    </tr>\n",
              "    <tr>\n",
              "      <th>2</th>\n",
              "      <td>F00000004</td>\n",
              "      <td>257</td>\n",
              "      <td>1</td>\n",
              "      <td>0</td>\n",
              "      <td>1</td>\n",
              "      <td>0</td>\n",
              "      <td>0.0</td>\n",
              "      <td>0</td>\n",
              "      <td>2</td>\n",
              "      <td>1</td>\n",
              "    </tr>\n",
              "    <tr>\n",
              "      <th>3</th>\n",
              "      <td>F00000005</td>\n",
              "      <td>257</td>\n",
              "      <td>1</td>\n",
              "      <td>1</td>\n",
              "      <td>1</td>\n",
              "      <td>0</td>\n",
              "      <td>0.0</td>\n",
              "      <td>0</td>\n",
              "      <td>2</td>\n",
              "      <td>1</td>\n",
              "    </tr>\n",
              "    <tr>\n",
              "      <th>4</th>\n",
              "      <td>F00000006</td>\n",
              "      <td>342</td>\n",
              "      <td>1</td>\n",
              "      <td>0</td>\n",
              "      <td>1</td>\n",
              "      <td>0</td>\n",
              "      <td>0.0</td>\n",
              "      <td>0</td>\n",
              "      <td>2</td>\n",
              "      <td>1</td>\n",
              "    </tr>\n",
              "    <tr>\n",
              "      <th>...</th>\n",
              "      <td>...</td>\n",
              "      <td>...</td>\n",
              "      <td>...</td>\n",
              "      <td>...</td>\n",
              "      <td>...</td>\n",
              "      <td>...</td>\n",
              "      <td>...</td>\n",
              "      <td>...</td>\n",
              "      <td>...</td>\n",
              "      <td>...</td>\n",
              "    </tr>\n",
              "    <tr>\n",
              "      <th>88853</th>\n",
              "      <td>F00155935</td>\n",
              "      <td>3337</td>\n",
              "      <td>1</td>\n",
              "      <td>0</td>\n",
              "      <td>2</td>\n",
              "      <td>10</td>\n",
              "      <td>12.0</td>\n",
              "      <td>44</td>\n",
              "      <td>3</td>\n",
              "      <td>0</td>\n",
              "    </tr>\n",
              "    <tr>\n",
              "      <th>88854</th>\n",
              "      <td>F00155938</td>\n",
              "      <td>3516</td>\n",
              "      <td>1</td>\n",
              "      <td>0</td>\n",
              "      <td>2</td>\n",
              "      <td>10</td>\n",
              "      <td>20.0</td>\n",
              "      <td>38</td>\n",
              "      <td>1</td>\n",
              "      <td>0</td>\n",
              "    </tr>\n",
              "    <tr>\n",
              "      <th>88855</th>\n",
              "      <td>F00155939</td>\n",
              "      <td>3516</td>\n",
              "      <td>1</td>\n",
              "      <td>0</td>\n",
              "      <td>2</td>\n",
              "      <td>15</td>\n",
              "      <td>40.0</td>\n",
              "      <td>8</td>\n",
              "      <td>2</td>\n",
              "      <td>0</td>\n",
              "    </tr>\n",
              "    <tr>\n",
              "      <th>88856</th>\n",
              "      <td>F00155942</td>\n",
              "      <td>3702</td>\n",
              "      <td>1</td>\n",
              "      <td>0</td>\n",
              "      <td>2</td>\n",
              "      <td>10</td>\n",
              "      <td>25.0</td>\n",
              "      <td>18</td>\n",
              "      <td>3</td>\n",
              "      <td>0</td>\n",
              "    </tr>\n",
              "    <tr>\n",
              "      <th>88857</th>\n",
              "      <td>F00155945</td>\n",
              "      <td>3895</td>\n",
              "      <td>1</td>\n",
              "      <td>0</td>\n",
              "      <td>2</td>\n",
              "      <td>20</td>\n",
              "      <td>37.0</td>\n",
              "      <td>7</td>\n",
              "      <td>3</td>\n",
              "      <td>0</td>\n",
              "    </tr>\n",
              "  </tbody>\n",
              "</table>\n",
              "<p>88858 rows × 10 columns</p>\n",
              "</div>"
            ],
            "text/plain": [
              "              ID  Estimated_Insects_Count  ...  Season  Crop_Damage\n",
              "0      F00000001                      188  ...       1            0\n",
              "1      F00000003                      209  ...       2            1\n",
              "2      F00000004                      257  ...       2            1\n",
              "3      F00000005                      257  ...       2            1\n",
              "4      F00000006                      342  ...       2            1\n",
              "...          ...                      ...  ...     ...          ...\n",
              "88853  F00155935                     3337  ...       3            0\n",
              "88854  F00155938                     3516  ...       1            0\n",
              "88855  F00155939                     3516  ...       2            0\n",
              "88856  F00155942                     3702  ...       3            0\n",
              "88857  F00155945                     3895  ...       3            0\n",
              "\n",
              "[88858 rows x 10 columns]"
            ]
          },
          "metadata": {
            "tags": []
          },
          "execution_count": 140
        }
      ]
    },
    {
      "cell_type": "code",
      "metadata": {
        "id": "vobMbdjEtZU0",
        "outputId": "e6522e34-89ae-4cb5-e47c-147253af90d8",
        "colab": {
          "base_uri": "https://localhost:8080/",
          "height": 419
        }
      },
      "source": [
        "test"
      ],
      "execution_count": 141,
      "outputs": [
        {
          "output_type": "execute_result",
          "data": {
            "text/html": [
              "<div>\n",
              "<style scoped>\n",
              "    .dataframe tbody tr th:only-of-type {\n",
              "        vertical-align: middle;\n",
              "    }\n",
              "\n",
              "    .dataframe tbody tr th {\n",
              "        vertical-align: top;\n",
              "    }\n",
              "\n",
              "    .dataframe thead th {\n",
              "        text-align: right;\n",
              "    }\n",
              "</style>\n",
              "<table border=\"1\" class=\"dataframe\">\n",
              "  <thead>\n",
              "    <tr style=\"text-align: right;\">\n",
              "      <th></th>\n",
              "      <th>ID</th>\n",
              "      <th>Estimated_Insects_Count</th>\n",
              "      <th>Crop_Type</th>\n",
              "      <th>Soil_Type</th>\n",
              "      <th>Pesticide_Use_Category</th>\n",
              "      <th>Number_Doses_Week</th>\n",
              "      <th>Number_Weeks_Used</th>\n",
              "      <th>Number_Weeks_Quit</th>\n",
              "      <th>Season</th>\n",
              "    </tr>\n",
              "  </thead>\n",
              "  <tbody>\n",
              "    <tr>\n",
              "      <th>0</th>\n",
              "      <td>F00000002</td>\n",
              "      <td>188</td>\n",
              "      <td>1</td>\n",
              "      <td>1</td>\n",
              "      <td>1</td>\n",
              "      <td>0</td>\n",
              "      <td>28.0</td>\n",
              "      <td>0</td>\n",
              "      <td>2</td>\n",
              "    </tr>\n",
              "    <tr>\n",
              "      <th>1</th>\n",
              "      <td>F00000007</td>\n",
              "      <td>410</td>\n",
              "      <td>1</td>\n",
              "      <td>1</td>\n",
              "      <td>1</td>\n",
              "      <td>0</td>\n",
              "      <td>0.0</td>\n",
              "      <td>0</td>\n",
              "      <td>2</td>\n",
              "    </tr>\n",
              "    <tr>\n",
              "      <th>2</th>\n",
              "      <td>F00000011</td>\n",
              "      <td>626</td>\n",
              "      <td>1</td>\n",
              "      <td>0</td>\n",
              "      <td>1</td>\n",
              "      <td>0</td>\n",
              "      <td>0.0</td>\n",
              "      <td>0</td>\n",
              "      <td>2</td>\n",
              "    </tr>\n",
              "    <tr>\n",
              "      <th>3</th>\n",
              "      <td>F00000013</td>\n",
              "      <td>731</td>\n",
              "      <td>1</td>\n",
              "      <td>0</td>\n",
              "      <td>1</td>\n",
              "      <td>0</td>\n",
              "      <td>0.0</td>\n",
              "      <td>0</td>\n",
              "      <td>2</td>\n",
              "    </tr>\n",
              "    <tr>\n",
              "      <th>4</th>\n",
              "      <td>F00000014</td>\n",
              "      <td>789</td>\n",
              "      <td>0</td>\n",
              "      <td>0</td>\n",
              "      <td>1</td>\n",
              "      <td>0</td>\n",
              "      <td>0.0</td>\n",
              "      <td>0</td>\n",
              "      <td>1</td>\n",
              "    </tr>\n",
              "    <tr>\n",
              "      <th>...</th>\n",
              "      <td>...</td>\n",
              "      <td>...</td>\n",
              "      <td>...</td>\n",
              "      <td>...</td>\n",
              "      <td>...</td>\n",
              "      <td>...</td>\n",
              "      <td>...</td>\n",
              "      <td>...</td>\n",
              "      <td>...</td>\n",
              "    </tr>\n",
              "    <tr>\n",
              "      <th>59305</th>\n",
              "      <td>F00155937</td>\n",
              "      <td>3337</td>\n",
              "      <td>1</td>\n",
              "      <td>0</td>\n",
              "      <td>2</td>\n",
              "      <td>20</td>\n",
              "      <td>34.0</td>\n",
              "      <td>12</td>\n",
              "      <td>1</td>\n",
              "    </tr>\n",
              "    <tr>\n",
              "      <th>59306</th>\n",
              "      <td>F00155940</td>\n",
              "      <td>3516</td>\n",
              "      <td>1</td>\n",
              "      <td>0</td>\n",
              "      <td>2</td>\n",
              "      <td>20</td>\n",
              "      <td>32.0</td>\n",
              "      <td>10</td>\n",
              "      <td>2</td>\n",
              "    </tr>\n",
              "    <tr>\n",
              "      <th>59307</th>\n",
              "      <td>F00155941</td>\n",
              "      <td>3702</td>\n",
              "      <td>1</td>\n",
              "      <td>0</td>\n",
              "      <td>2</td>\n",
              "      <td>10</td>\n",
              "      <td>28.0</td>\n",
              "      <td>48</td>\n",
              "      <td>1</td>\n",
              "    </tr>\n",
              "    <tr>\n",
              "      <th>59308</th>\n",
              "      <td>F00155943</td>\n",
              "      <td>3702</td>\n",
              "      <td>1</td>\n",
              "      <td>0</td>\n",
              "      <td>2</td>\n",
              "      <td>10</td>\n",
              "      <td>28.0</td>\n",
              "      <td>17</td>\n",
              "      <td>2</td>\n",
              "    </tr>\n",
              "    <tr>\n",
              "      <th>59309</th>\n",
              "      <td>F00155944</td>\n",
              "      <td>3895</td>\n",
              "      <td>1</td>\n",
              "      <td>0</td>\n",
              "      <td>2</td>\n",
              "      <td>5</td>\n",
              "      <td>52.0</td>\n",
              "      <td>7</td>\n",
              "      <td>1</td>\n",
              "    </tr>\n",
              "  </tbody>\n",
              "</table>\n",
              "<p>59310 rows × 9 columns</p>\n",
              "</div>"
            ],
            "text/plain": [
              "              ID  Estimated_Insects_Count  ...  Number_Weeks_Quit  Season\n",
              "0      F00000002                      188  ...                  0       2\n",
              "1      F00000007                      410  ...                  0       2\n",
              "2      F00000011                      626  ...                  0       2\n",
              "3      F00000013                      731  ...                  0       2\n",
              "4      F00000014                      789  ...                  0       1\n",
              "...          ...                      ...  ...                ...     ...\n",
              "59305  F00155937                     3337  ...                 12       1\n",
              "59306  F00155940                     3516  ...                 10       2\n",
              "59307  F00155941                     3702  ...                 48       1\n",
              "59308  F00155943                     3702  ...                 17       2\n",
              "59309  F00155944                     3895  ...                  7       1\n",
              "\n",
              "[59310 rows x 9 columns]"
            ]
          },
          "metadata": {
            "tags": []
          },
          "execution_count": 141
        }
      ]
    },
    {
      "cell_type": "markdown",
      "metadata": {
        "id": "zL3W74IYNDt3"
      },
      "source": [
        "Graphical representation"
      ]
    },
    {
      "cell_type": "code",
      "metadata": {
        "id": "ouQBJr6To7UF",
        "outputId": "41513a33-d4bd-4f01-c21d-9da7c44ae4ae",
        "colab": {
          "base_uri": "https://localhost:8080/",
          "height": 619
        }
      },
      "source": [
        "plt.figure(figsize=(10,8))\n",
        "sns.heatmap(train.corr(), annot=True)"
      ],
      "execution_count": 142,
      "outputs": [
        {
          "output_type": "execute_result",
          "data": {
            "text/plain": [
              "<matplotlib.axes._subplots.AxesSubplot at 0x7fdcba39c668>"
            ]
          },
          "metadata": {
            "tags": []
          },
          "execution_count": 142
        },
        {
          "output_type": "display_data",
          "data": {
            "image/png": "[encoded data removed]",
            "text/plain": [
              "<Figure size 720x576 with 2 Axes>"
            ]
          },
          "metadata": {
            "tags": [],
            "needs_background": "light"
          }
        }
      ]
    },
    {
      "cell_type": "markdown",
      "metadata": {
        "id": "PiPBDel_NL5E"
      },
      "source": [
        "Preprocess data"
      ]
    },
    {
      "cell_type": "code",
      "metadata": {
        "id": "qBfTSCDLRHYQ",
        "outputId": "c2d01381-c88c-4b8c-d232-41139b036f62",
        "colab": {
          "base_uri": "https://localhost:8080/",
          "height": 162
        }
      },
      "source": [
        "damage = train.groupby(by=(\"Crop_Damage\")).count().reset_index()\n",
        "damage"
      ],
      "execution_count": 143,
      "outputs": [
        {
          "output_type": "execute_result",
          "data": {
            "text/html": [
              "<div>\n",
              "<style scoped>\n",
              "    .dataframe tbody tr th:only-of-type {\n",
              "        vertical-align: middle;\n",
              "    }\n",
              "\n",
              "    .dataframe tbody tr th {\n",
              "        vertical-align: top;\n",
              "    }\n",
              "\n",
              "    .dataframe thead th {\n",
              "        text-align: right;\n",
              "    }\n",
              "</style>\n",
              "<table border=\"1\" class=\"dataframe\">\n",
              "  <thead>\n",
              "    <tr style=\"text-align: right;\">\n",
              "      <th></th>\n",
              "      <th>Crop_Damage</th>\n",
              "      <th>ID</th>\n",
              "      <th>Estimated_Insects_Count</th>\n",
              "      <th>Crop_Type</th>\n",
              "      <th>Soil_Type</th>\n",
              "      <th>Pesticide_Use_Category</th>\n",
              "      <th>Number_Doses_Week</th>\n",
              "      <th>Number_Weeks_Used</th>\n",
              "      <th>Number_Weeks_Quit</th>\n",
              "      <th>Season</th>\n",
              "    </tr>\n",
              "  </thead>\n",
              "  <tbody>\n",
              "    <tr>\n",
              "      <th>0</th>\n",
              "      <td>0</td>\n",
              "      <td>74238</td>\n",
              "      <td>74238</td>\n",
              "      <td>74238</td>\n",
              "      <td>74238</td>\n",
              "      <td>74238</td>\n",
              "      <td>74238</td>\n",
              "      <td>74238</td>\n",
              "      <td>74238</td>\n",
              "      <td>74238</td>\n",
              "    </tr>\n",
              "    <tr>\n",
              "      <th>1</th>\n",
              "      <td>1</td>\n",
              "      <td>12307</td>\n",
              "      <td>12307</td>\n",
              "      <td>12307</td>\n",
              "      <td>12307</td>\n",
              "      <td>12307</td>\n",
              "      <td>12307</td>\n",
              "      <td>12307</td>\n",
              "      <td>12307</td>\n",
              "      <td>12307</td>\n",
              "    </tr>\n",
              "    <tr>\n",
              "      <th>2</th>\n",
              "      <td>2</td>\n",
              "      <td>2313</td>\n",
              "      <td>2313</td>\n",
              "      <td>2313</td>\n",
              "      <td>2313</td>\n",
              "      <td>2313</td>\n",
              "      <td>2313</td>\n",
              "      <td>2313</td>\n",
              "      <td>2313</td>\n",
              "      <td>2313</td>\n",
              "    </tr>\n",
              "  </tbody>\n",
              "</table>\n",
              "</div>"
            ],
            "text/plain": [
              "   Crop_Damage     ID  ...  Number_Weeks_Quit  Season\n",
              "0            0  74238  ...              74238   74238\n",
              "1            1  12307  ...              12307   12307\n",
              "2            2   2313  ...               2313    2313\n",
              "\n",
              "[3 rows x 10 columns]"
            ]
          },
          "metadata": {
            "tags": []
          },
          "execution_count": 143
        }
      ]
    },
    {
      "cell_type": "code",
      "metadata": {
        "id": "yMlXWLi2pioD",
        "outputId": "75c3039a-99e3-4928-ba25-619acea9051e",
        "colab": {
          "base_uri": "https://localhost:8080/",
          "height": 351
        }
      },
      "source": [
        "sns.distplot(train['Crop_Damage'])"
      ],
      "execution_count": 144,
      "outputs": [
        {
          "output_type": "stream",
          "text": [
            "/usr/local/lib/python3.6/dist-packages/seaborn/distributions.py:2551: FutureWarning: `distplot` is a deprecated function and will be removed in a future version. Please adapt your code to use either `displot` (a figure-level function with similar flexibility) or `histplot` (an axes-level function for histograms).\n",
            "  warnings.warn(msg, FutureWarning)\n"
          ],
          "name": "stderr"
        },
        {
          "output_type": "execute_result",
          "data": {
            "text/plain": [
              "<matplotlib.axes._subplots.AxesSubplot at 0x7fdcaa0a5ac8>"
            ]
          },
          "metadata": {
            "tags": []
          },
          "execution_count": 144
        },
        {
          "output_type": "display_data",
          "data": {
            "image/png": "[encoded data removed]",
            "text/plain": [
              "<Figure size 432x288 with 1 Axes>"
            ]
          },
          "metadata": {
            "tags": [],
            "needs_background": "light"
          }
        }
      ]
    },
    {
      "cell_type": "code",
      "metadata": {
        "id": "cN0UzvPap69k",
        "outputId": "612f4eed-f8f6-4d0b-8c98-d2903fed8baf",
        "colab": {
          "base_uri": "https://localhost:8080/",
          "height": 377
        }
      },
      "source": [
        "plt.figure(figsize=(10,6))\n",
        "plt.title(\"Insect Frequency\")\n",
        "sns.axes_style(\"dark\")\n",
        "sns.violinplot(y=train[\"Estimated_Insects_Count\"])\n",
        "plt.show()"
      ],
      "execution_count": 145,
      "outputs": [
        {
          "output_type": "display_data",
          "data": {
            "image/png": "[encoded data removed]",
            "text/plain": [
              "<Figure size 720x432 with 1 Axes>"
            ]
          },
          "metadata": {
            "tags": [],
            "needs_background": "light"
          }
        }
      ]
    },
    {
      "cell_type": "code",
      "metadata": {
        "id": "MM7JrlCJtfdC",
        "outputId": "593ec96e-56b1-4886-ec83-019fc3bcc48a",
        "colab": {
          "base_uri": "https://localhost:8080/",
          "height": 419
        }
      },
      "source": [
        "insect = train.groupby(by=(\"Estimated_Insects_Count\"))[\"Crop_Damage\"].sum().reset_index()\n",
        "insect"
      ],
      "execution_count": 146,
      "outputs": [
        {
          "output_type": "execute_result",
          "data": {
            "text/html": [
              "<div>\n",
              "<style scoped>\n",
              "    .dataframe tbody tr th:only-of-type {\n",
              "        vertical-align: middle;\n",
              "    }\n",
              "\n",
              "    .dataframe tbody tr th {\n",
              "        vertical-align: top;\n",
              "    }\n",
              "\n",
              "    .dataframe thead th {\n",
              "        text-align: right;\n",
              "    }\n",
              "</style>\n",
              "<table border=\"1\" class=\"dataframe\">\n",
              "  <thead>\n",
              "    <tr style=\"text-align: right;\">\n",
              "      <th></th>\n",
              "      <th>Estimated_Insects_Count</th>\n",
              "      <th>Crop_Damage</th>\n",
              "    </tr>\n",
              "  </thead>\n",
              "  <tbody>\n",
              "    <tr>\n",
              "      <th>0</th>\n",
              "      <td>150</td>\n",
              "      <td>13</td>\n",
              "    </tr>\n",
              "    <tr>\n",
              "      <th>1</th>\n",
              "      <td>151</td>\n",
              "      <td>2</td>\n",
              "    </tr>\n",
              "    <tr>\n",
              "      <th>2</th>\n",
              "      <td>168</td>\n",
              "      <td>12</td>\n",
              "    </tr>\n",
              "    <tr>\n",
              "      <th>3</th>\n",
              "      <td>169</td>\n",
              "      <td>2</td>\n",
              "    </tr>\n",
              "    <tr>\n",
              "      <th>4</th>\n",
              "      <td>188</td>\n",
              "      <td>10</td>\n",
              "    </tr>\n",
              "    <tr>\n",
              "      <th>...</th>\n",
              "      <td>...</td>\n",
              "      <td>...</td>\n",
              "    </tr>\n",
              "    <tr>\n",
              "      <th>66</th>\n",
              "      <td>3702</td>\n",
              "      <td>261</td>\n",
              "    </tr>\n",
              "    <tr>\n",
              "      <th>67</th>\n",
              "      <td>3895</td>\n",
              "      <td>159</td>\n",
              "    </tr>\n",
              "    <tr>\n",
              "      <th>68</th>\n",
              "      <td>3896</td>\n",
              "      <td>57</td>\n",
              "    </tr>\n",
              "    <tr>\n",
              "      <th>69</th>\n",
              "      <td>4096</td>\n",
              "      <td>111</td>\n",
              "    </tr>\n",
              "    <tr>\n",
              "      <th>70</th>\n",
              "      <td>4097</td>\n",
              "      <td>52</td>\n",
              "    </tr>\n",
              "  </tbody>\n",
              "</table>\n",
              "<p>71 rows × 2 columns</p>\n",
              "</div>"
            ],
            "text/plain": [
              "    Estimated_Insects_Count  Crop_Damage\n",
              "0                       150           13\n",
              "1                       151            2\n",
              "2                       168           12\n",
              "3                       169            2\n",
              "4                       188           10\n",
              "..                      ...          ...\n",
              "66                     3702          261\n",
              "67                     3895          159\n",
              "68                     3896           57\n",
              "69                     4096          111\n",
              "70                     4097           52\n",
              "\n",
              "[71 rows x 2 columns]"
            ]
          },
          "metadata": {
            "tags": []
          },
          "execution_count": 146
        }
      ]
    },
    {
      "cell_type": "code",
      "metadata": {
        "id": "VU7jJnJnqQ8y",
        "outputId": "f0794913-7d4d-44f9-f0da-24dcf8913296",
        "colab": {
          "base_uri": "https://localhost:8080/",
          "height": 277
        }
      },
      "source": [
        "train.groupby('Crop_Type').Crop_Damage.count().plot.bar(ylim=0)\n",
        "plt.show()"
      ],
      "execution_count": 147,
      "outputs": [
        {
          "output_type": "display_data",
          "data": {
            "image/png": "[encoded data removed]",
            "text/plain": [
              "<Figure size 432x288 with 1 Axes>"
            ]
          },
          "metadata": {
            "tags": [],
            "needs_background": "light"
          }
        }
      ]
    },
    {
      "cell_type": "code",
      "metadata": {
        "id": "YAiyHQ-8t4r4",
        "outputId": "934b60dd-3b23-4781-cce2-c8f27f0a01f3",
        "colab": {
          "base_uri": "https://localhost:8080/",
          "height": 111
        }
      },
      "source": [
        "crop = train.groupby(by=(\"Crop_Type\"))[\"Crop_Damage\"].sum().reset_index()\n",
        "crop"
      ],
      "execution_count": 148,
      "outputs": [
        {
          "output_type": "execute_result",
          "data": {
            "text/html": [
              "<div>\n",
              "<style scoped>\n",
              "    .dataframe tbody tr th:only-of-type {\n",
              "        vertical-align: middle;\n",
              "    }\n",
              "\n",
              "    .dataframe tbody tr th {\n",
              "        vertical-align: top;\n",
              "    }\n",
              "\n",
              "    .dataframe thead th {\n",
              "        text-align: right;\n",
              "    }\n",
              "</style>\n",
              "<table border=\"1\" class=\"dataframe\">\n",
              "  <thead>\n",
              "    <tr style=\"text-align: right;\">\n",
              "      <th></th>\n",
              "      <th>Crop_Type</th>\n",
              "      <th>Crop_Damage</th>\n",
              "    </tr>\n",
              "  </thead>\n",
              "  <tbody>\n",
              "    <tr>\n",
              "      <th>0</th>\n",
              "      <td>0</td>\n",
              "      <td>12418</td>\n",
              "    </tr>\n",
              "    <tr>\n",
              "      <th>1</th>\n",
              "      <td>1</td>\n",
              "      <td>4515</td>\n",
              "    </tr>\n",
              "  </tbody>\n",
              "</table>\n",
              "</div>"
            ],
            "text/plain": [
              "   Crop_Type  Crop_Damage\n",
              "0          0        12418\n",
              "1          1         4515"
            ]
          },
          "metadata": {
            "tags": []
          },
          "execution_count": 148
        }
      ]
    },
    {
      "cell_type": "code",
      "metadata": {
        "id": "HxnxJGPRrz4K",
        "outputId": "9f71f091-4927-422b-a7d2-592a1917ed4c",
        "colab": {
          "base_uri": "https://localhost:8080/",
          "height": 278
        }
      },
      "source": [
        "train.groupby('Soil_Type').Crop_Damage.count().plot.bar(ylim=0)\n",
        "plt.show()"
      ],
      "execution_count": 149,
      "outputs": [
        {
          "output_type": "display_data",
          "data": {
            "image/png": "[encoded data removed]",
            "text/plain": [
              "<Figure size 432x288 with 1 Axes>"
            ]
          },
          "metadata": {
            "tags": [],
            "needs_background": "light"
          }
        }
      ]
    },
    {
      "cell_type": "code",
      "metadata": {
        "id": "NodZc0HPuAdq",
        "outputId": "2f46ab6b-b995-43d8-b575-3bd3c3ee6001",
        "colab": {
          "base_uri": "https://localhost:8080/",
          "height": 111
        }
      },
      "source": [
        "soil = train.groupby(by=(\"Soil_Type\"))[\"Crop_Damage\"].sum().reset_index()\n",
        "soil"
      ],
      "execution_count": 150,
      "outputs": [
        {
          "output_type": "execute_result",
          "data": {
            "text/html": [
              "<div>\n",
              "<style scoped>\n",
              "    .dataframe tbody tr th:only-of-type {\n",
              "        vertical-align: middle;\n",
              "    }\n",
              "\n",
              "    .dataframe tbody tr th {\n",
              "        vertical-align: top;\n",
              "    }\n",
              "\n",
              "    .dataframe thead th {\n",
              "        text-align: right;\n",
              "    }\n",
              "</style>\n",
              "<table border=\"1\" class=\"dataframe\">\n",
              "  <thead>\n",
              "    <tr style=\"text-align: right;\">\n",
              "      <th></th>\n",
              "      <th>Soil_Type</th>\n",
              "      <th>Crop_Damage</th>\n",
              "    </tr>\n",
              "  </thead>\n",
              "  <tbody>\n",
              "    <tr>\n",
              "      <th>0</th>\n",
              "      <td>0</td>\n",
              "      <td>9613</td>\n",
              "    </tr>\n",
              "    <tr>\n",
              "      <th>1</th>\n",
              "      <td>1</td>\n",
              "      <td>7320</td>\n",
              "    </tr>\n",
              "  </tbody>\n",
              "</table>\n",
              "</div>"
            ],
            "text/plain": [
              "   Soil_Type  Crop_Damage\n",
              "0          0         9613\n",
              "1          1         7320"
            ]
          },
          "metadata": {
            "tags": []
          },
          "execution_count": 150
        }
      ]
    },
    {
      "cell_type": "code",
      "metadata": {
        "id": "ZI_wFuyjr-sW",
        "outputId": "dc8c1efb-f6ac-43ab-df6b-9171ea5c6741",
        "colab": {
          "base_uri": "https://localhost:8080/",
          "height": 277
        }
      },
      "source": [
        "train.groupby('Pesticide_Use_Category').Crop_Damage.count().plot.bar(ylim=0)\n",
        "plt.show()"
      ],
      "execution_count": 151,
      "outputs": [
        {
          "output_type": "display_data",
          "data": {
            "image/png": "[encoded data removed]",
            "text/plain": [
              "<Figure size 432x288 with 1 Axes>"
            ]
          },
          "metadata": {
            "tags": [],
            "needs_background": "light"
          }
        }
      ]
    },
    {
      "cell_type": "code",
      "metadata": {
        "id": "tVXgMcV2uHw9",
        "outputId": "f8e4ca53-2c53-4afa-9332-7669ab01952d",
        "colab": {
          "base_uri": "https://localhost:8080/",
          "height": 142
        }
      },
      "source": [
        "pest = train.groupby(by=(\"Pesticide_Use_Category\"))[\"Crop_Damage\"].sum().reset_index()\n",
        "pest"
      ],
      "execution_count": 152,
      "outputs": [
        {
          "output_type": "execute_result",
          "data": {
            "text/html": [
              "<div>\n",
              "<style scoped>\n",
              "    .dataframe tbody tr th:only-of-type {\n",
              "        vertical-align: middle;\n",
              "    }\n",
              "\n",
              "    .dataframe tbody tr th {\n",
              "        vertical-align: top;\n",
              "    }\n",
              "\n",
              "    .dataframe thead th {\n",
              "        text-align: right;\n",
              "    }\n",
              "</style>\n",
              "<table border=\"1\" class=\"dataframe\">\n",
              "  <thead>\n",
              "    <tr style=\"text-align: right;\">\n",
              "      <th></th>\n",
              "      <th>Pesticide_Use_Category</th>\n",
              "      <th>Crop_Damage</th>\n",
              "    </tr>\n",
              "  </thead>\n",
              "  <tbody>\n",
              "    <tr>\n",
              "      <th>0</th>\n",
              "      <td>1</td>\n",
              "      <td>884</td>\n",
              "    </tr>\n",
              "    <tr>\n",
              "      <th>1</th>\n",
              "      <td>2</td>\n",
              "      <td>7430</td>\n",
              "    </tr>\n",
              "    <tr>\n",
              "      <th>2</th>\n",
              "      <td>3</td>\n",
              "      <td>8619</td>\n",
              "    </tr>\n",
              "  </tbody>\n",
              "</table>\n",
              "</div>"
            ],
            "text/plain": [
              "   Pesticide_Use_Category  Crop_Damage\n",
              "0                       1          884\n",
              "1                       2         7430\n",
              "2                       3         8619"
            ]
          },
          "metadata": {
            "tags": []
          },
          "execution_count": 152
        }
      ]
    },
    {
      "cell_type": "code",
      "metadata": {
        "id": "IGRma9d_sPNE",
        "outputId": "1ade4955-a8c2-4370-9a1c-2dfb11d5be11",
        "colab": {
          "base_uri": "https://localhost:8080/",
          "height": 377
        }
      },
      "source": [
        "plt.figure(figsize=(10,6))\n",
        "plt.title(\"Dosage Frequency\")\n",
        "sns.axes_style(\"dark\")\n",
        "sns.violinplot(y=train[\"Number_Doses_Week\"])\n",
        "plt.show()"
      ],
      "execution_count": 153,
      "outputs": [
        {
          "output_type": "display_data",
          "data": {
            "image/png": "[encoded data removed]",
            "text/plain": [
              "<Figure size 720x432 with 1 Axes>"
            ]
          },
          "metadata": {
            "tags": [],
            "needs_background": "light"
          }
        }
      ]
    },
    {
      "cell_type": "code",
      "metadata": {
        "id": "1mXZ4WQOubJp",
        "outputId": "9a4034a7-6a71-4106-bdad-d80087f6e7ca",
        "colab": {
          "base_uri": "https://localhost:8080/",
          "height": 669
        }
      },
      "source": [
        "dose = train.groupby(by=(\"Number_Doses_Week\"))[\"Crop_Damage\"].sum().reset_index()\n",
        "dose"
      ],
      "execution_count": 154,
      "outputs": [
        {
          "output_type": "execute_result",
          "data": {
            "text/html": [
              "<div>\n",
              "<style scoped>\n",
              "    .dataframe tbody tr th:only-of-type {\n",
              "        vertical-align: middle;\n",
              "    }\n",
              "\n",
              "    .dataframe tbody tr th {\n",
              "        vertical-align: top;\n",
              "    }\n",
              "\n",
              "    .dataframe thead th {\n",
              "        text-align: right;\n",
              "    }\n",
              "</style>\n",
              "<table border=\"1\" class=\"dataframe\">\n",
              "  <thead>\n",
              "    <tr style=\"text-align: right;\">\n",
              "      <th></th>\n",
              "      <th>Number_Doses_Week</th>\n",
              "      <th>Crop_Damage</th>\n",
              "    </tr>\n",
              "  </thead>\n",
              "  <tbody>\n",
              "    <tr>\n",
              "      <th>0</th>\n",
              "      <td>0</td>\n",
              "      <td>884</td>\n",
              "    </tr>\n",
              "    <tr>\n",
              "      <th>1</th>\n",
              "      <td>5</td>\n",
              "      <td>553</td>\n",
              "    </tr>\n",
              "    <tr>\n",
              "      <th>2</th>\n",
              "      <td>10</td>\n",
              "      <td>1836</td>\n",
              "    </tr>\n",
              "    <tr>\n",
              "      <th>3</th>\n",
              "      <td>15</td>\n",
              "      <td>1190</td>\n",
              "    </tr>\n",
              "    <tr>\n",
              "      <th>4</th>\n",
              "      <td>20</td>\n",
              "      <td>5558</td>\n",
              "    </tr>\n",
              "    <tr>\n",
              "      <th>5</th>\n",
              "      <td>25</td>\n",
              "      <td>692</td>\n",
              "    </tr>\n",
              "    <tr>\n",
              "      <th>6</th>\n",
              "      <td>30</td>\n",
              "      <td>2061</td>\n",
              "    </tr>\n",
              "    <tr>\n",
              "      <th>7</th>\n",
              "      <td>35</td>\n",
              "      <td>215</td>\n",
              "    </tr>\n",
              "    <tr>\n",
              "      <th>8</th>\n",
              "      <td>40</td>\n",
              "      <td>2615</td>\n",
              "    </tr>\n",
              "    <tr>\n",
              "      <th>9</th>\n",
              "      <td>45</td>\n",
              "      <td>81</td>\n",
              "    </tr>\n",
              "    <tr>\n",
              "      <th>10</th>\n",
              "      <td>50</td>\n",
              "      <td>432</td>\n",
              "    </tr>\n",
              "    <tr>\n",
              "      <th>11</th>\n",
              "      <td>55</td>\n",
              "      <td>29</td>\n",
              "    </tr>\n",
              "    <tr>\n",
              "      <th>12</th>\n",
              "      <td>60</td>\n",
              "      <td>627</td>\n",
              "    </tr>\n",
              "    <tr>\n",
              "      <th>13</th>\n",
              "      <td>65</td>\n",
              "      <td>7</td>\n",
              "    </tr>\n",
              "    <tr>\n",
              "      <th>14</th>\n",
              "      <td>70</td>\n",
              "      <td>35</td>\n",
              "    </tr>\n",
              "    <tr>\n",
              "      <th>15</th>\n",
              "      <td>75</td>\n",
              "      <td>5</td>\n",
              "    </tr>\n",
              "    <tr>\n",
              "      <th>16</th>\n",
              "      <td>80</td>\n",
              "      <td>96</td>\n",
              "    </tr>\n",
              "    <tr>\n",
              "      <th>17</th>\n",
              "      <td>85</td>\n",
              "      <td>3</td>\n",
              "    </tr>\n",
              "    <tr>\n",
              "      <th>18</th>\n",
              "      <td>90</td>\n",
              "      <td>12</td>\n",
              "    </tr>\n",
              "    <tr>\n",
              "      <th>19</th>\n",
              "      <td>95</td>\n",
              "      <td>2</td>\n",
              "    </tr>\n",
              "  </tbody>\n",
              "</table>\n",
              "</div>"
            ],
            "text/plain": [
              "    Number_Doses_Week  Crop_Damage\n",
              "0                   0          884\n",
              "1                   5          553\n",
              "2                  10         1836\n",
              "3                  15         1190\n",
              "4                  20         5558\n",
              "5                  25          692\n",
              "6                  30         2061\n",
              "7                  35          215\n",
              "8                  40         2615\n",
              "9                  45           81\n",
              "10                 50          432\n",
              "11                 55           29\n",
              "12                 60          627\n",
              "13                 65            7\n",
              "14                 70           35\n",
              "15                 75            5\n",
              "16                 80           96\n",
              "17                 85            3\n",
              "18                 90           12\n",
              "19                 95            2"
            ]
          },
          "metadata": {
            "tags": []
          },
          "execution_count": 154
        }
      ]
    },
    {
      "cell_type": "code",
      "metadata": {
        "id": "tSXktGNusPH9",
        "outputId": "2f5d0e3d-5bb2-45c5-c2cf-b57eba357a14",
        "colab": {
          "base_uri": "https://localhost:8080/",
          "height": 377
        }
      },
      "source": [
        "plt.figure(figsize=(10,6))\n",
        "plt.title(\"Usage Frequency\")\n",
        "sns.axes_style(\"dark\")\n",
        "sns.violinplot(y=train[\"Number_Weeks_Used\"])\n",
        "plt.show()"
      ],
      "execution_count": 155,
      "outputs": [
        {
          "output_type": "display_data",
          "data": {
            "image/png": "[encoded data removed]",
            "text/plain": [
              "<Figure size 720x432 with 1 Axes>"
            ]
          },
          "metadata": {
            "tags": [],
            "needs_background": "light"
          }
        }
      ]
    },
    {
      "cell_type": "code",
      "metadata": {
        "id": "3mNwgsMO1Aiu"
      },
      "source": [
        "train.Number_Weeks_Used=train.Number_Weeks_Used.astype(int)\n",
        "test.Number_Weeks_Used=test.Number_Weeks_Used.astype(int)"
      ],
      "execution_count": 156,
      "outputs": []
    },
    {
      "cell_type": "code",
      "metadata": {
        "id": "JJQ7lLmEukzM",
        "outputId": "cba3fba5-ec8d-4b9d-f808-f81505f95b04",
        "colab": {
          "base_uri": "https://localhost:8080/",
          "height": 419
        }
      },
      "source": [
        "week = train.groupby(by=(\"Number_Weeks_Used\"))[\"Crop_Damage\"].sum().reset_index()\n",
        "week"
      ],
      "execution_count": 157,
      "outputs": [
        {
          "output_type": "execute_result",
          "data": {
            "text/html": [
              "<div>\n",
              "<style scoped>\n",
              "    .dataframe tbody tr th:only-of-type {\n",
              "        vertical-align: middle;\n",
              "    }\n",
              "\n",
              "    .dataframe tbody tr th {\n",
              "        vertical-align: top;\n",
              "    }\n",
              "\n",
              "    .dataframe thead th {\n",
              "        text-align: right;\n",
              "    }\n",
              "</style>\n",
              "<table border=\"1\" class=\"dataframe\">\n",
              "  <thead>\n",
              "    <tr style=\"text-align: right;\">\n",
              "      <th></th>\n",
              "      <th>Number_Weeks_Used</th>\n",
              "      <th>Crop_Damage</th>\n",
              "    </tr>\n",
              "  </thead>\n",
              "  <tbody>\n",
              "    <tr>\n",
              "      <th>0</th>\n",
              "      <td>0</td>\n",
              "      <td>771</td>\n",
              "    </tr>\n",
              "    <tr>\n",
              "      <th>1</th>\n",
              "      <td>5</td>\n",
              "      <td>33</td>\n",
              "    </tr>\n",
              "    <tr>\n",
              "      <th>2</th>\n",
              "      <td>6</td>\n",
              "      <td>15</td>\n",
              "    </tr>\n",
              "    <tr>\n",
              "      <th>3</th>\n",
              "      <td>7</td>\n",
              "      <td>18</td>\n",
              "    </tr>\n",
              "    <tr>\n",
              "      <th>4</th>\n",
              "      <td>8</td>\n",
              "      <td>32</td>\n",
              "    </tr>\n",
              "    <tr>\n",
              "      <th>...</th>\n",
              "      <td>...</td>\n",
              "      <td>...</td>\n",
              "    </tr>\n",
              "    <tr>\n",
              "      <th>59</th>\n",
              "      <td>63</td>\n",
              "      <td>21</td>\n",
              "    </tr>\n",
              "    <tr>\n",
              "      <th>60</th>\n",
              "      <td>64</td>\n",
              "      <td>21</td>\n",
              "    </tr>\n",
              "    <tr>\n",
              "      <th>61</th>\n",
              "      <td>65</td>\n",
              "      <td>23</td>\n",
              "    </tr>\n",
              "    <tr>\n",
              "      <th>62</th>\n",
              "      <td>66</td>\n",
              "      <td>8</td>\n",
              "    </tr>\n",
              "    <tr>\n",
              "      <th>63</th>\n",
              "      <td>67</td>\n",
              "      <td>3</td>\n",
              "    </tr>\n",
              "  </tbody>\n",
              "</table>\n",
              "<p>64 rows × 2 columns</p>\n",
              "</div>"
            ],
            "text/plain": [
              "    Number_Weeks_Used  Crop_Damage\n",
              "0                   0          771\n",
              "1                   5           33\n",
              "2                   6           15\n",
              "3                   7           18\n",
              "4                   8           32\n",
              "..                ...          ...\n",
              "59                 63           21\n",
              "60                 64           21\n",
              "61                 65           23\n",
              "62                 66            8\n",
              "63                 67            3\n",
              "\n",
              "[64 rows x 2 columns]"
            ]
          },
          "metadata": {
            "tags": []
          },
          "execution_count": 157
        }
      ]
    },
    {
      "cell_type": "code",
      "metadata": {
        "id": "kd2mdKaGz4no"
      },
      "source": [
        "train.Number_Weeks_Used=train.Number_Weeks_Used.astype(int)\n",
        "test.Number_Weeks_Used=test.Number_Weeks_Used.astype(int)"
      ],
      "execution_count": 158,
      "outputs": []
    },
    {
      "cell_type": "code",
      "metadata": {
        "id": "chNIxZkysvjp",
        "outputId": "64b01ac9-7e0f-4c1d-c3c2-c8d559921778",
        "colab": {
          "base_uri": "https://localhost:8080/",
          "height": 377
        }
      },
      "source": [
        "plt.figure(figsize=(10,6))\n",
        "plt.title(\"Quit Frequency\")\n",
        "sns.axes_style(\"dark\")\n",
        "sns.violinplot(y=train[\"Number_Weeks_Quit\"])\n",
        "plt.show()"
      ],
      "execution_count": 159,
      "outputs": [
        {
          "output_type": "display_data",
          "data": {
            "image/png": "[encoded data removed]",
            "text/plain": [
              "<Figure size 720x432 with 1 Axes>"
            ]
          },
          "metadata": {
            "tags": [],
            "needs_background": "light"
          }
        }
      ]
    },
    {
      "cell_type": "code",
      "metadata": {
        "id": "waacTuCqutK2",
        "outputId": "65f9f4cd-e5a4-4626-d9b4-46c3d9858be4",
        "colab": {
          "base_uri": "https://localhost:8080/",
          "height": 1000
        }
      },
      "source": [
        "quit = train.groupby(by=(\"Number_Weeks_Quit\"))[\"Crop_Damage\"].sum().reset_index()\n",
        "quit"
      ],
      "execution_count": 160,
      "outputs": [
        {
          "output_type": "execute_result",
          "data": {
            "text/html": [
              "<div>\n",
              "<style scoped>\n",
              "    .dataframe tbody tr th:only-of-type {\n",
              "        vertical-align: middle;\n",
              "    }\n",
              "\n",
              "    .dataframe tbody tr th {\n",
              "        vertical-align: top;\n",
              "    }\n",
              "\n",
              "    .dataframe thead th {\n",
              "        text-align: right;\n",
              "    }\n",
              "</style>\n",
              "<table border=\"1\" class=\"dataframe\">\n",
              "  <thead>\n",
              "    <tr style=\"text-align: right;\">\n",
              "      <th></th>\n",
              "      <th>Number_Weeks_Quit</th>\n",
              "      <th>Crop_Damage</th>\n",
              "    </tr>\n",
              "  </thead>\n",
              "  <tbody>\n",
              "    <tr>\n",
              "      <th>0</th>\n",
              "      <td>0</td>\n",
              "      <td>9557</td>\n",
              "    </tr>\n",
              "    <tr>\n",
              "      <th>1</th>\n",
              "      <td>1</td>\n",
              "      <td>147</td>\n",
              "    </tr>\n",
              "    <tr>\n",
              "      <th>2</th>\n",
              "      <td>2</td>\n",
              "      <td>241</td>\n",
              "    </tr>\n",
              "    <tr>\n",
              "      <th>3</th>\n",
              "      <td>3</td>\n",
              "      <td>286</td>\n",
              "    </tr>\n",
              "    <tr>\n",
              "      <th>4</th>\n",
              "      <td>4</td>\n",
              "      <td>278</td>\n",
              "    </tr>\n",
              "    <tr>\n",
              "      <th>5</th>\n",
              "      <td>5</td>\n",
              "      <td>390</td>\n",
              "    </tr>\n",
              "    <tr>\n",
              "      <th>6</th>\n",
              "      <td>6</td>\n",
              "      <td>326</td>\n",
              "    </tr>\n",
              "    <tr>\n",
              "      <th>7</th>\n",
              "      <td>7</td>\n",
              "      <td>308</td>\n",
              "    </tr>\n",
              "    <tr>\n",
              "      <th>8</th>\n",
              "      <td>8</td>\n",
              "      <td>277</td>\n",
              "    </tr>\n",
              "    <tr>\n",
              "      <th>9</th>\n",
              "      <td>9</td>\n",
              "      <td>231</td>\n",
              "    </tr>\n",
              "    <tr>\n",
              "      <th>10</th>\n",
              "      <td>10</td>\n",
              "      <td>393</td>\n",
              "    </tr>\n",
              "    <tr>\n",
              "      <th>11</th>\n",
              "      <td>11</td>\n",
              "      <td>247</td>\n",
              "    </tr>\n",
              "    <tr>\n",
              "      <th>12</th>\n",
              "      <td>12</td>\n",
              "      <td>316</td>\n",
              "    </tr>\n",
              "    <tr>\n",
              "      <th>13</th>\n",
              "      <td>13</td>\n",
              "      <td>277</td>\n",
              "    </tr>\n",
              "    <tr>\n",
              "      <th>14</th>\n",
              "      <td>14</td>\n",
              "      <td>316</td>\n",
              "    </tr>\n",
              "    <tr>\n",
              "      <th>15</th>\n",
              "      <td>15</td>\n",
              "      <td>340</td>\n",
              "    </tr>\n",
              "    <tr>\n",
              "      <th>16</th>\n",
              "      <td>16</td>\n",
              "      <td>239</td>\n",
              "    </tr>\n",
              "    <tr>\n",
              "      <th>17</th>\n",
              "      <td>17</td>\n",
              "      <td>221</td>\n",
              "    </tr>\n",
              "    <tr>\n",
              "      <th>18</th>\n",
              "      <td>18</td>\n",
              "      <td>196</td>\n",
              "    </tr>\n",
              "    <tr>\n",
              "      <th>19</th>\n",
              "      <td>19</td>\n",
              "      <td>248</td>\n",
              "    </tr>\n",
              "    <tr>\n",
              "      <th>20</th>\n",
              "      <td>20</td>\n",
              "      <td>287</td>\n",
              "    </tr>\n",
              "    <tr>\n",
              "      <th>21</th>\n",
              "      <td>21</td>\n",
              "      <td>174</td>\n",
              "    </tr>\n",
              "    <tr>\n",
              "      <th>22</th>\n",
              "      <td>22</td>\n",
              "      <td>164</td>\n",
              "    </tr>\n",
              "    <tr>\n",
              "      <th>23</th>\n",
              "      <td>23</td>\n",
              "      <td>142</td>\n",
              "    </tr>\n",
              "    <tr>\n",
              "      <th>24</th>\n",
              "      <td>24</td>\n",
              "      <td>120</td>\n",
              "    </tr>\n",
              "    <tr>\n",
              "      <th>25</th>\n",
              "      <td>25</td>\n",
              "      <td>152</td>\n",
              "    </tr>\n",
              "    <tr>\n",
              "      <th>26</th>\n",
              "      <td>26</td>\n",
              "      <td>125</td>\n",
              "    </tr>\n",
              "    <tr>\n",
              "      <th>27</th>\n",
              "      <td>27</td>\n",
              "      <td>87</td>\n",
              "    </tr>\n",
              "    <tr>\n",
              "      <th>28</th>\n",
              "      <td>28</td>\n",
              "      <td>112</td>\n",
              "    </tr>\n",
              "    <tr>\n",
              "      <th>29</th>\n",
              "      <td>29</td>\n",
              "      <td>100</td>\n",
              "    </tr>\n",
              "    <tr>\n",
              "      <th>30</th>\n",
              "      <td>30</td>\n",
              "      <td>102</td>\n",
              "    </tr>\n",
              "    <tr>\n",
              "      <th>31</th>\n",
              "      <td>31</td>\n",
              "      <td>81</td>\n",
              "    </tr>\n",
              "    <tr>\n",
              "      <th>32</th>\n",
              "      <td>32</td>\n",
              "      <td>62</td>\n",
              "    </tr>\n",
              "    <tr>\n",
              "      <th>33</th>\n",
              "      <td>33</td>\n",
              "      <td>52</td>\n",
              "    </tr>\n",
              "    <tr>\n",
              "      <th>34</th>\n",
              "      <td>34</td>\n",
              "      <td>57</td>\n",
              "    </tr>\n",
              "    <tr>\n",
              "      <th>35</th>\n",
              "      <td>35</td>\n",
              "      <td>51</td>\n",
              "    </tr>\n",
              "    <tr>\n",
              "      <th>36</th>\n",
              "      <td>36</td>\n",
              "      <td>26</td>\n",
              "    </tr>\n",
              "    <tr>\n",
              "      <th>37</th>\n",
              "      <td>37</td>\n",
              "      <td>43</td>\n",
              "    </tr>\n",
              "    <tr>\n",
              "      <th>38</th>\n",
              "      <td>38</td>\n",
              "      <td>27</td>\n",
              "    </tr>\n",
              "    <tr>\n",
              "      <th>39</th>\n",
              "      <td>39</td>\n",
              "      <td>17</td>\n",
              "    </tr>\n",
              "    <tr>\n",
              "      <th>40</th>\n",
              "      <td>40</td>\n",
              "      <td>31</td>\n",
              "    </tr>\n",
              "    <tr>\n",
              "      <th>41</th>\n",
              "      <td>41</td>\n",
              "      <td>20</td>\n",
              "    </tr>\n",
              "    <tr>\n",
              "      <th>42</th>\n",
              "      <td>42</td>\n",
              "      <td>15</td>\n",
              "    </tr>\n",
              "    <tr>\n",
              "      <th>43</th>\n",
              "      <td>43</td>\n",
              "      <td>8</td>\n",
              "    </tr>\n",
              "    <tr>\n",
              "      <th>44</th>\n",
              "      <td>44</td>\n",
              "      <td>10</td>\n",
              "    </tr>\n",
              "    <tr>\n",
              "      <th>45</th>\n",
              "      <td>45</td>\n",
              "      <td>7</td>\n",
              "    </tr>\n",
              "    <tr>\n",
              "      <th>46</th>\n",
              "      <td>46</td>\n",
              "      <td>10</td>\n",
              "    </tr>\n",
              "    <tr>\n",
              "      <th>47</th>\n",
              "      <td>47</td>\n",
              "      <td>8</td>\n",
              "    </tr>\n",
              "    <tr>\n",
              "      <th>48</th>\n",
              "      <td>48</td>\n",
              "      <td>6</td>\n",
              "    </tr>\n",
              "    <tr>\n",
              "      <th>49</th>\n",
              "      <td>49</td>\n",
              "      <td>2</td>\n",
              "    </tr>\n",
              "    <tr>\n",
              "      <th>50</th>\n",
              "      <td>50</td>\n",
              "      <td>1</td>\n",
              "    </tr>\n",
              "  </tbody>\n",
              "</table>\n",
              "</div>"
            ],
            "text/plain": [
              "    Number_Weeks_Quit  Crop_Damage\n",
              "0                   0         9557\n",
              "1                   1          147\n",
              "2                   2          241\n",
              "3                   3          286\n",
              "4                   4          278\n",
              "5                   5          390\n",
              "6                   6          326\n",
              "7                   7          308\n",
              "8                   8          277\n",
              "9                   9          231\n",
              "10                 10          393\n",
              "11                 11          247\n",
              "12                 12          316\n",
              "13                 13          277\n",
              "14                 14          316\n",
              "15                 15          340\n",
              "16                 16          239\n",
              "17                 17          221\n",
              "18                 18          196\n",
              "19                 19          248\n",
              "20                 20          287\n",
              "21                 21          174\n",
              "22                 22          164\n",
              "23                 23          142\n",
              "24                 24          120\n",
              "25                 25          152\n",
              "26                 26          125\n",
              "27                 27           87\n",
              "28                 28          112\n",
              "29                 29          100\n",
              "30                 30          102\n",
              "31                 31           81\n",
              "32                 32           62\n",
              "33                 33           52\n",
              "34                 34           57\n",
              "35                 35           51\n",
              "36                 36           26\n",
              "37                 37           43\n",
              "38                 38           27\n",
              "39                 39           17\n",
              "40                 40           31\n",
              "41                 41           20\n",
              "42                 42           15\n",
              "43                 43            8\n",
              "44                 44           10\n",
              "45                 45            7\n",
              "46                 46           10\n",
              "47                 47            8\n",
              "48                 48            6\n",
              "49                 49            2\n",
              "50                 50            1"
            ]
          },
          "metadata": {
            "tags": []
          },
          "execution_count": 160
        }
      ]
    },
    {
      "cell_type": "code",
      "metadata": {
        "id": "mNLHJFLCs8Vh",
        "outputId": "63f3d79e-a8b3-413b-c12c-1191b4684dab",
        "colab": {
          "base_uri": "https://localhost:8080/",
          "height": 276
        }
      },
      "source": [
        "train.groupby('Season').Crop_Damage.count().plot.bar(ylim=0)\n",
        "plt.show()"
      ],
      "execution_count": 161,
      "outputs": [
        {
          "output_type": "display_data",
          "data": {
            "image/png": "[encoded data removed]",
            "text/plain": [
              "<Figure size 432x288 with 1 Axes>"
            ]
          },
          "metadata": {
            "tags": [],
            "needs_background": "light"
          }
        }
      ]
    },
    {
      "cell_type": "code",
      "metadata": {
        "id": "6Z2g65Zru1gT",
        "outputId": "9b518f97-ea50-4953-c6c3-f209e07b1609",
        "colab": {
          "base_uri": "https://localhost:8080/",
          "height": 142
        }
      },
      "source": [
        "season = train.groupby(by=(\"Season\"))[\"Crop_Damage\"].sum().reset_index()\n",
        "season"
      ],
      "execution_count": 162,
      "outputs": [
        {
          "output_type": "execute_result",
          "data": {
            "text/html": [
              "<div>\n",
              "<style scoped>\n",
              "    .dataframe tbody tr th:only-of-type {\n",
              "        vertical-align: middle;\n",
              "    }\n",
              "\n",
              "    .dataframe tbody tr th {\n",
              "        vertical-align: top;\n",
              "    }\n",
              "\n",
              "    .dataframe thead th {\n",
              "        text-align: right;\n",
              "    }\n",
              "</style>\n",
              "<table border=\"1\" class=\"dataframe\">\n",
              "  <thead>\n",
              "    <tr style=\"text-align: right;\">\n",
              "      <th></th>\n",
              "      <th>Season</th>\n",
              "      <th>Crop_Damage</th>\n",
              "    </tr>\n",
              "  </thead>\n",
              "  <tbody>\n",
              "    <tr>\n",
              "      <th>0</th>\n",
              "      <td>1</td>\n",
              "      <td>5070</td>\n",
              "    </tr>\n",
              "    <tr>\n",
              "      <th>1</th>\n",
              "      <td>2</td>\n",
              "      <td>8543</td>\n",
              "    </tr>\n",
              "    <tr>\n",
              "      <th>2</th>\n",
              "      <td>3</td>\n",
              "      <td>3320</td>\n",
              "    </tr>\n",
              "  </tbody>\n",
              "</table>\n",
              "</div>"
            ],
            "text/plain": [
              "   Season  Crop_Damage\n",
              "0       1         5070\n",
              "1       2         8543\n",
              "2       3         3320"
            ]
          },
          "metadata": {
            "tags": []
          },
          "execution_count": 162
        }
      ]
    },
    {
      "cell_type": "markdown",
      "metadata": {
        "id": "77jb-19rNYmW"
      },
      "source": [
        "Feature selection"
      ]
    },
    {
      "cell_type": "code",
      "metadata": {
        "id": "p4LHtvL_vZlH"
      },
      "source": [
        "#set up features\n",
        "features=['Estimated_Insects_Count', 'Crop_Type', 'Soil_Type', 'Pesticide_Use_Category', 'Number_Doses_Week',\n",
        "          'Number_Weeks_Used', 'Number_Weeks_Quit', 'Season']\n",
        "\n",
        "train_labels = np.array(train.Crop_Damage.values.reshape(-1, 1), dtype=np.float32)"
      ],
      "execution_count": 163,
      "outputs": []
    },
    {
      "cell_type": "markdown",
      "metadata": {
        "id": "qFXWheqMNcFB"
      },
      "source": [
        "Define X, y and X_test"
      ]
    },
    {
      "cell_type": "code",
      "metadata": {
        "id": "P9H0ofx5wWCp"
      },
      "source": [
        "#define x, y and x_test\n",
        "X=train[features]\n",
        "y=train_labels\n",
        "X_test=test[features]"
      ],
      "execution_count": 164,
      "outputs": []
    },
    {
      "cell_type": "markdown",
      "metadata": {
        "id": "vdD88Ej-Nhj_"
      },
      "source": [
        "Min Max Scaler"
      ]
    },
    {
      "cell_type": "code",
      "metadata": {
        "id": "XflkLQ1Oxg3u"
      },
      "source": [
        "#scale x, y and x_test\n",
        "from sklearn.preprocessing import MinMaxScaler\n",
        "mm=MinMaxScaler(feature_range=(0, 2), copy=True)\n",
        "\n",
        "X=mm.fit_transform(X)\n",
        "y=mm.fit_transform(y)\n",
        "X_test=mm.fit_transform(X_test)"
      ],
      "execution_count": 165,
      "outputs": []
    },
    {
      "cell_type": "markdown",
      "metadata": {
        "id": "0MEBa45jNlCh"
      },
      "source": [
        "SMOTE"
      ]
    },
    {
      "cell_type": "code",
      "metadata": {
        "id": "TzVtHI-RJJuY",
        "outputId": "53c8330f-acb9-4b0b-e52c-ae619bcd4c19",
        "colab": {
          "base_uri": "https://localhost:8080/",
          "height": 139
        }
      },
      "source": [
        "from imblearn.over_sampling import SMOTE\n",
        "\n",
        "X, y = SMOTE().fit_resample(X, y)"
      ],
      "execution_count": 166,
      "outputs": [
        {
          "output_type": "stream",
          "text": [
            "/usr/local/lib/python3.6/dist-packages/sklearn/utils/validation.py:760: DataConversionWarning: A column-vector y was passed when a 1d array was expected. Please change the shape of y to (n_samples, ), for example using ravel().\n",
            "  y = column_or_1d(y, warn=True)\n",
            "/usr/local/lib/python3.6/dist-packages/sklearn/utils/deprecation.py:87: FutureWarning: Function safe_indexing is deprecated; safe_indexing is deprecated in version 0.22 and will be removed in version 0.24.\n",
            "  warnings.warn(msg, category=FutureWarning)\n",
            "/usr/local/lib/python3.6/dist-packages/sklearn/utils/deprecation.py:87: FutureWarning: Function safe_indexing is deprecated; safe_indexing is deprecated in version 0.22 and will be removed in version 0.24.\n",
            "  warnings.warn(msg, category=FutureWarning)\n"
          ],
          "name": "stderr"
        }
      ]
    },
    {
      "cell_type": "markdown",
      "metadata": {
        "id": "iQMyZCWkP26x"
      },
      "source": [
        "Near Miss"
      ]
    },
    {
      "cell_type": "code",
      "metadata": {
        "id": "OCFYQ8F2P9PH"
      },
      "source": [
        "from imblearn.under_sampling import NearMiss\n",
        "nr = NearMiss()\n",
        "\n",
        "#X, y = nr.fit_sample(X, y)"
      ],
      "execution_count": 167,
      "outputs": []
    },
    {
      "cell_type": "markdown",
      "metadata": {
        "id": "BzE10uD_Nnwu"
      },
      "source": [
        "Split training set for training and testing"
      ]
    },
    {
      "cell_type": "code",
      "metadata": {
        "id": "44D5ndrtx7Eh",
        "outputId": "dd5d35ee-d334-48c8-c10f-e5edc2a17ba5",
        "colab": {
          "base_uri": "https://localhost:8080/",
          "height": 34
        }
      },
      "source": [
        "#split training set for training and testing\n",
        "from sklearn.model_selection import train_test_split\n",
        "\n",
        "X_train, X_val, y_train, y_val = train_test_split(X, y, random_state=1, test_size=0.10, stratify=y)\n",
        "X_train.shape, X_val.shape, y_train.shape, y_val.shape"
      ],
      "execution_count": 168,
      "outputs": [
        {
          "output_type": "execute_result",
          "data": {
            "text/plain": [
              "((200442, 8), (22272, 8), (200442,), (22272,))"
            ]
          },
          "metadata": {
            "tags": []
          },
          "execution_count": 168
        }
      ]
    },
    {
      "cell_type": "markdown",
      "metadata": {
        "id": "nAkyRNxINuWq"
      },
      "source": [
        "Model selection"
      ]
    },
    {
      "cell_type": "code",
      "metadata": {
        "id": "zy3C5Uy98SL_",
        "outputId": "f2bc61d3-1abb-473f-efa6-86f8b09f2ad7",
        "colab": {
          "base_uri": "https://localhost:8080/",
          "height": 153
        }
      },
      "source": [
        "#Create an XGB classifier and instance of the same\n",
        "import xgboost as xgb\n",
        "from xgboost import XGBClassifier\n",
        "\n",
        "model = XGBClassifier(objective='multi:softmax', learning_rate=.01, n_estimators=1000, max_depth=20, num_boosting_rounds=1000).fit(X_train, y_train)\n",
        "model"
      ],
      "execution_count": 169,
      "outputs": [
        {
          "output_type": "execute_result",
          "data": {
            "text/plain": [
              "XGBClassifier(base_score=0.5, booster='gbtree', colsample_bylevel=1,\n",
              "              colsample_bynode=1, colsample_bytree=1, gamma=0,\n",
              "              learning_rate=0.01, max_delta_step=0, max_depth=20,\n",
              "              min_child_weight=1, missing=None, n_estimators=1000, n_jobs=1,\n",
              "              nthread=None, num_boosting_rounds=1000,\n",
              "              objective='multi:softprob', random_state=0, reg_alpha=0,\n",
              "              reg_lambda=1, scale_pos_weight=1, seed=None, silent=None,\n",
              "              subsample=1, verbosity=1)"
            ]
          },
          "metadata": {
            "tags": []
          },
          "execution_count": 169
        }
      ]
    },
    {
      "cell_type": "code",
      "metadata": {
        "id": "JIselX_84XXD",
        "outputId": "b09deaa3-c6ec-4c14-bc5a-46efecb0cb4b",
        "colab": {
          "base_uri": "https://localhost:8080/",
          "height": 34
        }
      },
      "source": [
        "print(model.score(X_train, y_train))"
      ],
      "execution_count": 170,
      "outputs": [
        {
          "output_type": "stream",
          "text": [
            "0.9760828568862813\n"
          ],
          "name": "stdout"
        }
      ]
    },
    {
      "cell_type": "code",
      "metadata": {
        "id": "poLwsH3P8SEA",
        "outputId": "bd20bd9a-fbe9-4a26-8bc6-e3f0f37cd405",
        "colab": {
          "base_uri": "https://localhost:8080/",
          "height": 34
        }
      },
      "source": [
        "y_pred = model.predict(X_val)\n",
        "y_pred"
      ],
      "execution_count": 171,
      "outputs": [
        {
          "output_type": "execute_result",
          "data": {
            "text/plain": [
              "array([0., 2., 2., ..., 1., 2., 2.], dtype=float32)"
            ]
          },
          "metadata": {
            "tags": []
          },
          "execution_count": 171
        }
      ]
    },
    {
      "cell_type": "code",
      "metadata": {
        "id": "DcZwhe6K8SAU",
        "outputId": "ff7e6714-b15f-4644-a4ea-133a639c9c64",
        "colab": {
          "base_uri": "https://localhost:8080/",
          "height": 34
        }
      },
      "source": [
        "print(model.score(X_val, y_val))"
      ],
      "execution_count": 172,
      "outputs": [
        {
          "output_type": "stream",
          "text": [
            "0.8905352011494253\n"
          ],
          "name": "stdout"
        }
      ]
    },
    {
      "cell_type": "code",
      "metadata": {
        "id": "yExnrqSy8wD9"
      },
      "source": [
        "#importing library and segregation of data as train and test using DMatrix Data structure\n",
        "dtrain = xgb.DMatrix(X_train, label=y_train)\n",
        "dtest = xgb.DMatrix(X_val, label=y_val)\n",
        "#format x, y, and x_test\n",
        "dX=xgb.DMatrix(X, label=y)\n",
        "DXtest=xgb.DMatrix(X_test)"
      ],
      "execution_count": 173,
      "outputs": []
    },
    {
      "cell_type": "code",
      "metadata": {
        "id": "idjSdPDa8wBY"
      },
      "source": [
        "#paramaters \n",
        "param = {\n",
        "    'max_depth': 25,  # the maximum depth of each tree\n",
        "    'eta': 0.3,  # the training step for each iteration\n",
        "    'silent': 1,  # logging mode - quiet\n",
        "    'objective': 'multi:softmax',  # error evaluation for multiclass training\n",
        "    'num_class': 3}  # the number of classes that exist in this datset\n",
        "num_round = 10  # the number of training iterations"
      ],
      "execution_count": 174,
      "outputs": []
    },
    {
      "cell_type": "code",
      "metadata": {
        "id": "547Sd4hs8v-W",
        "outputId": "acdc22be-bf55-4dc7-af10-d21edd89f539",
        "colab": {
          "base_uri": "https://localhost:8080/",
          "height": 34
        }
      },
      "source": [
        "#model builing using training data\n",
        "bst = xgb.train(param, dtrain, num_round)\n",
        "bst"
      ],
      "execution_count": 175,
      "outputs": [
        {
          "output_type": "execute_result",
          "data": {
            "text/plain": [
              "<xgboost.core.Booster at 0x7fdca9134f28>"
            ]
          },
          "metadata": {
            "tags": []
          },
          "execution_count": 175
        }
      ]
    },
    {
      "cell_type": "markdown",
      "metadata": {
        "id": "k5Frfyy5N_XT"
      },
      "source": [
        "Make predictions"
      ]
    },
    {
      "cell_type": "code",
      "metadata": {
        "id": "bP5hI1bJ8v73",
        "outputId": "030c14ee-3963-44db-aad5-de720abb991f",
        "colab": {
          "base_uri": "https://localhost:8080/",
          "height": 34
        }
      },
      "source": [
        "#To calculate predication using test data\n",
        "y_predict = bst.predict(dtest)\n",
        "y_predict"
      ],
      "execution_count": 176,
      "outputs": [
        {
          "output_type": "execute_result",
          "data": {
            "text/plain": [
              "array([0., 2., 2., ..., 1., 0., 2.], dtype=float32)"
            ]
          },
          "metadata": {
            "tags": []
          },
          "execution_count": 176
        }
      ]
    },
    {
      "cell_type": "code",
      "metadata": {
        "id": "6G0L6qtDAIm1",
        "outputId": "bf71d004-200e-4caf-c0e4-bb2210b76a92",
        "colab": {
          "base_uri": "https://localhost:8080/",
          "height": 419
        }
      },
      "source": [
        "y_predict=y_predict.flatten()\n",
        "y_val=y_val.flatten()\n",
        "\n",
        "df=pd.DataFrame({'Actual': y_val, 'Predicted':y_predict})\n",
        "df"
      ],
      "execution_count": 177,
      "outputs": [
        {
          "output_type": "execute_result",
          "data": {
            "text/html": [
              "<div>\n",
              "<style scoped>\n",
              "    .dataframe tbody tr th:only-of-type {\n",
              "        vertical-align: middle;\n",
              "    }\n",
              "\n",
              "    .dataframe tbody tr th {\n",
              "        vertical-align: top;\n",
              "    }\n",
              "\n",
              "    .dataframe thead th {\n",
              "        text-align: right;\n",
              "    }\n",
              "</style>\n",
              "<table border=\"1\" class=\"dataframe\">\n",
              "  <thead>\n",
              "    <tr style=\"text-align: right;\">\n",
              "      <th></th>\n",
              "      <th>Actual</th>\n",
              "      <th>Predicted</th>\n",
              "    </tr>\n",
              "  </thead>\n",
              "  <tbody>\n",
              "    <tr>\n",
              "      <th>0</th>\n",
              "      <td>0.0</td>\n",
              "      <td>0.0</td>\n",
              "    </tr>\n",
              "    <tr>\n",
              "      <th>1</th>\n",
              "      <td>2.0</td>\n",
              "      <td>2.0</td>\n",
              "    </tr>\n",
              "    <tr>\n",
              "      <th>2</th>\n",
              "      <td>2.0</td>\n",
              "      <td>2.0</td>\n",
              "    </tr>\n",
              "    <tr>\n",
              "      <th>3</th>\n",
              "      <td>2.0</td>\n",
              "      <td>2.0</td>\n",
              "    </tr>\n",
              "    <tr>\n",
              "      <th>4</th>\n",
              "      <td>0.0</td>\n",
              "      <td>0.0</td>\n",
              "    </tr>\n",
              "    <tr>\n",
              "      <th>...</th>\n",
              "      <td>...</td>\n",
              "      <td>...</td>\n",
              "    </tr>\n",
              "    <tr>\n",
              "      <th>22267</th>\n",
              "      <td>2.0</td>\n",
              "      <td>2.0</td>\n",
              "    </tr>\n",
              "    <tr>\n",
              "      <th>22268</th>\n",
              "      <td>1.0</td>\n",
              "      <td>1.0</td>\n",
              "    </tr>\n",
              "    <tr>\n",
              "      <th>22269</th>\n",
              "      <td>1.0</td>\n",
              "      <td>1.0</td>\n",
              "    </tr>\n",
              "    <tr>\n",
              "      <th>22270</th>\n",
              "      <td>2.0</td>\n",
              "      <td>0.0</td>\n",
              "    </tr>\n",
              "    <tr>\n",
              "      <th>22271</th>\n",
              "      <td>2.0</td>\n",
              "      <td>2.0</td>\n",
              "    </tr>\n",
              "  </tbody>\n",
              "</table>\n",
              "<p>22272 rows × 2 columns</p>\n",
              "</div>"
            ],
            "text/plain": [
              "       Actual  Predicted\n",
              "0         0.0        0.0\n",
              "1         2.0        2.0\n",
              "2         2.0        2.0\n",
              "3         2.0        2.0\n",
              "4         0.0        0.0\n",
              "...       ...        ...\n",
              "22267     2.0        2.0\n",
              "22268     1.0        1.0\n",
              "22269     1.0        1.0\n",
              "22270     2.0        0.0\n",
              "22271     2.0        2.0\n",
              "\n",
              "[22272 rows x 2 columns]"
            ]
          },
          "metadata": {
            "tags": []
          },
          "execution_count": 177
        }
      ]
    },
    {
      "cell_type": "code",
      "metadata": {
        "id": "H_1qjDMeAyIu",
        "outputId": "b6b2d61e-048b-478c-f53f-52d52f9e6b47",
        "colab": {
          "base_uri": "https://localhost:8080/",
          "height": 34
        }
      },
      "source": [
        "from sklearn.metrics import f1_score\n",
        "from sklearn.metrics import recall_score\n",
        "from sklearn.metrics import accuracy_score\n",
        "\n",
        "accuracy_score(y_val, y_pred), f1_score(y_val, y_pred, average='weighted'), \n",
        "recall_score(y_val, y_pred, average='weighted')"
      ],
      "execution_count": 178,
      "outputs": [
        {
          "output_type": "execute_result",
          "data": {
            "text/plain": [
              "0.8905352011494253"
            ]
          },
          "metadata": {
            "tags": []
          },
          "execution_count": 178
        }
      ]
    },
    {
      "cell_type": "code",
      "metadata": {
        "id": "HLh4ZHEFBGQ1",
        "outputId": "92ee7536-eba1-416a-a7d3-c123a6608181",
        "colab": {
          "base_uri": "https://localhost:8080/",
          "height": 68
        }
      },
      "source": [
        "#Create a confusion matrix\n",
        "from sklearn.metrics import confusion_matrix\n",
        " \n",
        "confusion_matrix(y_val, y_pred)"
      ],
      "execution_count": 179,
      "outputs": [
        {
          "output_type": "execute_result",
          "data": {
            "text/plain": [
              "array([[6946,  411,   67],\n",
              "       [ 762, 5951,  711],\n",
              "       [ 141,  346, 6937]])"
            ]
          },
          "metadata": {
            "tags": []
          },
          "execution_count": 179
        }
      ]
    },
    {
      "cell_type": "code",
      "metadata": {
        "id": "9SVO3Qm7BR4x",
        "outputId": "01921b37-90c6-4017-a5a7-e37c9992c348",
        "colab": {
          "base_uri": "https://localhost:8080/",
          "height": 142
        }
      },
      "source": [
        "#transform confusion matrix into array\n",
        "#the matrix is stored in a vaiable called confmtrx\n",
        "confmtrx = np.array(confusion_matrix(y_val, y_pred))\n",
        "#Create DataFrame from confmtrx array \n",
        "pd.DataFrame(confmtrx, index=['Alive','Other_Causes', 'Pesticides'],\n",
        "columns=['predicted_Alive', 'predicted_Other_Causes', 'predicted_Pesticides'])\n"
      ],
      "execution_count": 180,
      "outputs": [
        {
          "output_type": "execute_result",
          "data": {
            "text/html": [
              "<div>\n",
              "<style scoped>\n",
              "    .dataframe tbody tr th:only-of-type {\n",
              "        vertical-align: middle;\n",
              "    }\n",
              "\n",
              "    .dataframe tbody tr th {\n",
              "        vertical-align: top;\n",
              "    }\n",
              "\n",
              "    .dataframe thead th {\n",
              "        text-align: right;\n",
              "    }\n",
              "</style>\n",
              "<table border=\"1\" class=\"dataframe\">\n",
              "  <thead>\n",
              "    <tr style=\"text-align: right;\">\n",
              "      <th></th>\n",
              "      <th>predicted_Alive</th>\n",
              "      <th>predicted_Other_Causes</th>\n",
              "      <th>predicted_Pesticides</th>\n",
              "    </tr>\n",
              "  </thead>\n",
              "  <tbody>\n",
              "    <tr>\n",
              "      <th>Alive</th>\n",
              "      <td>6946</td>\n",
              "      <td>411</td>\n",
              "      <td>67</td>\n",
              "    </tr>\n",
              "    <tr>\n",
              "      <th>Other_Causes</th>\n",
              "      <td>762</td>\n",
              "      <td>5951</td>\n",
              "      <td>711</td>\n",
              "    </tr>\n",
              "    <tr>\n",
              "      <th>Pesticides</th>\n",
              "      <td>141</td>\n",
              "      <td>346</td>\n",
              "      <td>6937</td>\n",
              "    </tr>\n",
              "  </tbody>\n",
              "</table>\n",
              "</div>"
            ],
            "text/plain": [
              "              predicted_Alive  predicted_Other_Causes  predicted_Pesticides\n",
              "Alive                    6946                     411                    67\n",
              "Other_Causes              762                    5951                   711\n",
              "Pesticides                141                     346                  6937"
            ]
          },
          "metadata": {
            "tags": []
          },
          "execution_count": 180
        }
      ]
    },
    {
      "cell_type": "code",
      "metadata": {
        "id": "zNRp4_qLBdTS",
        "outputId": "564545dd-9100-47fb-e7e1-33f5b8b1e3e6",
        "colab": {
          "base_uri": "https://localhost:8080/",
          "height": 204
        }
      },
      "source": [
        "#Accuracy statistics\n",
        "import sklearn.metrics as metrics\n",
        "from sklearn.metrics import classification_report\n",
        "\n",
        "print('Accuracy Score:', metrics.accuracy_score(y_val, y_pred))  \n",
        "#Create classification report\n",
        "class_report=classification_report(y_val, y_pred)\n",
        "print(class_report)"
      ],
      "execution_count": 181,
      "outputs": [
        {
          "output_type": "stream",
          "text": [
            "Accuracy Score: 0.8905352011494253\n",
            "              precision    recall  f1-score   support\n",
            "\n",
            "         0.0       0.88      0.94      0.91      7424\n",
            "         1.0       0.89      0.80      0.84      7424\n",
            "         2.0       0.90      0.93      0.92      7424\n",
            "\n",
            "    accuracy                           0.89     22272\n",
            "   macro avg       0.89      0.89      0.89     22272\n",
            "weighted avg       0.89      0.89      0.89     22272\n",
            "\n"
          ],
          "name": "stdout"
        }
      ]
    },
    {
      "cell_type": "code",
      "metadata": {
        "id": "Sp6wP88P8v3-",
        "outputId": "9121d748-cfa9-431b-be50-190258e471e8",
        "colab": {
          "base_uri": "https://localhost:8080/",
          "height": 34
        }
      },
      "source": [
        "bst.dump_model('dump.raw.txt')\n",
        "bst"
      ],
      "execution_count": 182,
      "outputs": [
        {
          "output_type": "execute_result",
          "data": {
            "text/plain": [
              "<xgboost.core.Booster at 0x7fdca9134f28>"
            ]
          },
          "metadata": {
            "tags": []
          },
          "execution_count": 182
        }
      ]
    },
    {
      "cell_type": "code",
      "metadata": {
        "id": "d8kpriloErzq",
        "outputId": "004b9499-75c1-4216-c932-1b903bb9709f",
        "colab": {
          "base_uri": "https://localhost:8080/",
          "height": 34
        }
      },
      "source": [
        "#Prediction using test data\n",
        "preds = bst.predict(dtest)\n",
        "preds"
      ],
      "execution_count": 183,
      "outputs": [
        {
          "output_type": "execute_result",
          "data": {
            "text/plain": [
              "array([0., 2., 2., ..., 1., 0., 2.], dtype=float32)"
            ]
          },
          "metadata": {
            "tags": []
          },
          "execution_count": 183
        }
      ]
    },
    {
      "cell_type": "code",
      "metadata": {
        "id": "aFpnGAW39ora",
        "outputId": "cd956b1f-5fd1-4da8-971a-186ec3f9c4da",
        "colab": {
          "base_uri": "https://localhost:8080/",
          "height": 34
        }
      },
      "source": [
        "from sklearn.metrics import precision_score\n",
        "\n",
        "print(precision_score(y_val, preds, average='macro'))"
      ],
      "execution_count": 184,
      "outputs": [
        {
          "output_type": "stream",
          "text": [
            "0.8793275548581625\n"
          ],
          "name": "stdout"
        }
      ]
    },
    {
      "cell_type": "markdown",
      "metadata": {
        "id": "aJWUfd-tgYAu"
      },
      "source": [
        "Create pkl file"
      ]
    },
    {
      "cell_type": "code",
      "metadata": {
        "id": "XcazOb7i9oo0"
      },
      "source": [
        "#Saving the model in pkl file\n",
        "from sklearn.externals import joblib\n",
        "\n",
        "joblib.dump(bst, 'bst_model.pkl', compress=True)\n",
        "bst = joblib.load('bst_model.pkl') # load it later"
      ],
      "execution_count": 185,
      "outputs": []
    },
    {
      "cell_type": "markdown",
      "metadata": {
        "id": "uEI9dBKEgb80"
      },
      "source": [
        "Visualise structure"
      ]
    },
    {
      "cell_type": "code",
      "metadata": {
        "id": "6YfpNx1e9oiv",
        "outputId": "1c409725-2fd8-4a1f-94a1-e91b8e09b083",
        "colab": {
          "base_uri": "https://localhost:8080/",
          "height": 295
        }
      },
      "source": [
        "#Feature importance\n",
        "from xgboost import plot_importance\n",
        "\n",
        "plot_importance(bst)\n",
        "plt.show()"
      ],
      "execution_count": 186,
      "outputs": [
        {
          "output_type": "display_data",
          "data": {
            "image/png": "[encoded data removed]",
            "text/plain": [
              "<Figure size 432x288 with 1 Axes>"
            ]
          },
          "metadata": {
            "tags": [],
            "needs_background": "light"
          }
        }
      ]
    },
    {
      "cell_type": "markdown",
      "metadata": {
        "id": "vHDBHSHEgsxT"
      },
      "source": [
        "Predict on test file"
      ]
    },
    {
      "cell_type": "code",
      "metadata": {
        "id": "QZUyUGRe9ofj",
        "outputId": "d4f935e0-9a12-4ef1-9d28-f1b25832fa58",
        "colab": {
          "base_uri": "https://localhost:8080/",
          "height": 34
        }
      },
      "source": [
        "#Prediction using test data\n",
        "preds = bst.predict(DXtest)\n",
        "preds"
      ],
      "execution_count": 187,
      "outputs": [
        {
          "output_type": "execute_result",
          "data": {
            "text/plain": [
              "array([0., 1., 1., ..., 0., 0., 0.], dtype=float32)"
            ]
          },
          "metadata": {
            "tags": []
          },
          "execution_count": 187
        }
      ]
    },
    {
      "cell_type": "code",
      "metadata": {
        "id": "K55csRE8GTej",
        "outputId": "4efb1310-f3f7-4edd-f023-cde9d5e1d194",
        "colab": {
          "base_uri": "https://localhost:8080/",
          "height": 34
        }
      },
      "source": [
        "#Calculating prediction accuracy\n",
        "final_preds = np.asarray([np.argmax(line) for line in preds])\n",
        "final_preds"
      ],
      "execution_count": 188,
      "outputs": [
        {
          "output_type": "execute_result",
          "data": {
            "text/plain": [
              "array([0, 0, 0, ..., 0, 0, 0])"
            ]
          },
          "metadata": {
            "tags": []
          },
          "execution_count": 188
        }
      ]
    },
    {
      "cell_type": "markdown",
      "metadata": {
        "id": "FimP4qb-OSR4"
      },
      "source": [
        "Make submission"
      ]
    },
    {
      "cell_type": "code",
      "metadata": {
        "id": "a0OZRBn59obl",
        "outputId": "712ad951-d672-47a4-c97a-dd1c6415d2d3",
        "colab": {
          "base_uri": "https://localhost:8080/",
          "height": 419
        }
      },
      "source": [
        "submission = pd.DataFrame({\n",
        "        \"ID\": test.ID,\n",
        "        \"Crop_Damage\": final_preds.flatten()\n",
        "    })\n",
        "submission.to_csv('submission.csv', index=False)\n",
        "submission"
      ],
      "execution_count": 189,
      "outputs": [
        {
          "output_type": "execute_result",
          "data": {
            "text/html": [
              "<div>\n",
              "<style scoped>\n",
              "    .dataframe tbody tr th:only-of-type {\n",
              "        vertical-align: middle;\n",
              "    }\n",
              "\n",
              "    .dataframe tbody tr th {\n",
              "        vertical-align: top;\n",
              "    }\n",
              "\n",
              "    .dataframe thead th {\n",
              "        text-align: right;\n",
              "    }\n",
              "</style>\n",
              "<table border=\"1\" class=\"dataframe\">\n",
              "  <thead>\n",
              "    <tr style=\"text-align: right;\">\n",
              "      <th></th>\n",
              "      <th>ID</th>\n",
              "      <th>Crop_Damage</th>\n",
              "    </tr>\n",
              "  </thead>\n",
              "  <tbody>\n",
              "    <tr>\n",
              "      <th>0</th>\n",
              "      <td>F00000002</td>\n",
              "      <td>0</td>\n",
              "    </tr>\n",
              "    <tr>\n",
              "      <th>1</th>\n",
              "      <td>F00000007</td>\n",
              "      <td>0</td>\n",
              "    </tr>\n",
              "    <tr>\n",
              "      <th>2</th>\n",
              "      <td>F00000011</td>\n",
              "      <td>0</td>\n",
              "    </tr>\n",
              "    <tr>\n",
              "      <th>3</th>\n",
              "      <td>F00000013</td>\n",
              "      <td>0</td>\n",
              "    </tr>\n",
              "    <tr>\n",
              "      <th>4</th>\n",
              "      <td>F00000014</td>\n",
              "      <td>0</td>\n",
              "    </tr>\n",
              "    <tr>\n",
              "      <th>...</th>\n",
              "      <td>...</td>\n",
              "      <td>...</td>\n",
              "    </tr>\n",
              "    <tr>\n",
              "      <th>59305</th>\n",
              "      <td>F00155937</td>\n",
              "      <td>0</td>\n",
              "    </tr>\n",
              "    <tr>\n",
              "      <th>59306</th>\n",
              "      <td>F00155940</td>\n",
              "      <td>0</td>\n",
              "    </tr>\n",
              "    <tr>\n",
              "      <th>59307</th>\n",
              "      <td>F00155941</td>\n",
              "      <td>0</td>\n",
              "    </tr>\n",
              "    <tr>\n",
              "      <th>59308</th>\n",
              "      <td>F00155943</td>\n",
              "      <td>0</td>\n",
              "    </tr>\n",
              "    <tr>\n",
              "      <th>59309</th>\n",
              "      <td>F00155944</td>\n",
              "      <td>0</td>\n",
              "    </tr>\n",
              "  </tbody>\n",
              "</table>\n",
              "<p>59310 rows × 2 columns</p>\n",
              "</div>"
            ],
            "text/plain": [
              "              ID  Crop_Damage\n",
              "0      F00000002            0\n",
              "1      F00000007            0\n",
              "2      F00000011            0\n",
              "3      F00000013            0\n",
              "4      F00000014            0\n",
              "...          ...          ...\n",
              "59305  F00155937            0\n",
              "59306  F00155940            0\n",
              "59307  F00155941            0\n",
              "59308  F00155943            0\n",
              "59309  F00155944            0\n",
              "\n",
              "[59310 rows x 2 columns]"
            ]
          },
          "metadata": {
            "tags": []
          },
          "execution_count": 189
        }
      ]
    },
    {
      "cell_type": "code",
      "metadata": {
        "id": "cb_wqDk_CHw6"
      },
      "source": [
        ""
      ],
      "execution_count": 189,
      "outputs": []
    },
    {
      "cell_type": "code",
      "metadata": {
        "id": "tmdQ3CvtCHuL"
      },
      "source": [
        ""
      ],
      "execution_count": 189,
      "outputs": []
    },
    {
      "cell_type": "code",
      "metadata": {
        "id": "BKlVNbDACHqF"
      },
      "source": [
        ""
      ],
      "execution_count": 189,
      "outputs": []
    },
    {
      "cell_type": "code",
      "metadata": {
        "id": "11APu0vFCHmq"
      },
      "source": [
        ""
      ],
      "execution_count": 189,
      "outputs": []
    },
    {
      "cell_type": "code",
      "metadata": {
        "id": "2oqBp9drCHhd"
      },
      "source": [
        ""
      ],
      "execution_count": 189,
      "outputs": []
    },
    {
      "cell_type": "code",
      "metadata": {
        "id": "B7Y1c8jVCHd1"
      },
      "source": [
        ""
      ],
      "execution_count": 189,
      "outputs": []
    },
    {
      "cell_type": "code",
      "metadata": {
        "id": "ZcM10Gux9oYn"
      },
      "source": [
        ""
      ],
      "execution_count": 189,
      "outputs": []
    },
    {
      "cell_type": "code",
      "metadata": {
        "id": "qVyFEAbS9oUu"
      },
      "source": [
        ""
      ],
      "execution_count": 189,
      "outputs": []
    }
  ]
}